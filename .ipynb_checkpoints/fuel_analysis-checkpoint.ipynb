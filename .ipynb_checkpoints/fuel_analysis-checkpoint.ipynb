{
 "cells": [
  {
   "cell_type": "markdown",
   "metadata": {},
   "source": [
    "## Tasks\n",
    "\n",
    "#### Done\n",
    "+ get the average mileage from the web\n",
    "\n",
    "+ show on a plot how the fuel price changed within time\n",
    "\n",
    "#### Remaing\n",
    "\n",
    "- compute the average cost of 100 miles for each car - need to calculate first it from gallons\n",
    "\n",
    "- compute which car is the most economic(which yearly cost is the smallest)\n",
    "\n",
    "- predict the future prices\n",
    "\n",
    "- based on the cars spec features, predict its mpg"
   ]
  },
  {
   "cell_type": "code",
   "execution_count": 1,
   "metadata": {},
   "outputs": [],
   "source": [
    "import pandas as pd\n",
    "import matplotlib.pyplot as plt\n",
    "%matplotlib inline\n",
    "import sqlite3"
   ]
  },
  {
   "cell_type": "code",
   "execution_count": 2,
   "metadata": {},
   "outputs": [],
   "source": [
    "\n",
    "class Server():\n",
    "    def __init__(self, db_name):\n",
    "        try:\n",
    "            self.conn = sqlite3.connect(db_name)\n",
    "            self.c = self.conn.cursor()\n",
    "        except sqlite3.Error:\n",
    "            print('Error while connecting to database')\n",
    "\n",
    "    def execute(self, command):\n",
    "        self.c.execute(command)\n",
    "\n",
    "    def commit(self):\n",
    "        self.conn.commit()\n",
    "\n",
    "    def close(self):\n",
    "        self.conn.close()"
   ]
  },
  {
   "cell_type": "code",
   "execution_count": 3,
   "metadata": {},
   "outputs": [],
   "source": [
    "db = Server('database.db')"
   ]
  },
  {
   "cell_type": "code",
   "execution_count": 4,
   "metadata": {},
   "outputs": [
    {
     "data": {
      "text/html": [
       "<div>\n",
       "<style scoped>\n",
       "    .dataframe tbody tr th:only-of-type {\n",
       "        vertical-align: middle;\n",
       "    }\n",
       "\n",
       "    .dataframe tbody tr th {\n",
       "        vertical-align: top;\n",
       "    }\n",
       "\n",
       "    .dataframe thead th {\n",
       "        text-align: right;\n",
       "    }\n",
       "</style>\n",
       "<table border=\"1\" class=\"dataframe\">\n",
       "  <thead>\n",
       "    <tr style=\"text-align: right;\">\n",
       "      <th></th>\n",
       "      <th>mark_model</th>\n",
       "      <th>hp</th>\n",
       "      <th>weight</th>\n",
       "      <th>acc_time</th>\n",
       "      <th>range_miles</th>\n",
       "      <th>mpg</th>\n",
       "    </tr>\n",
       "  </thead>\n",
       "  <tbody>\n",
       "    <tr>\n",
       "      <td>0</td>\n",
       "      <td>chevrolet chevelle malibu</td>\n",
       "      <td>130</td>\n",
       "      <td>3504</td>\n",
       "      <td>12.0</td>\n",
       "      <td>307.0</td>\n",
       "      <td>18.0</td>\n",
       "    </tr>\n",
       "    <tr>\n",
       "      <td>1</td>\n",
       "      <td>buick skylark 320</td>\n",
       "      <td>165</td>\n",
       "      <td>3693</td>\n",
       "      <td>11.5</td>\n",
       "      <td>350.0</td>\n",
       "      <td>15.0</td>\n",
       "    </tr>\n",
       "    <tr>\n",
       "      <td>2</td>\n",
       "      <td>plymouth satellite</td>\n",
       "      <td>150</td>\n",
       "      <td>3436</td>\n",
       "      <td>11.0</td>\n",
       "      <td>318.0</td>\n",
       "      <td>18.0</td>\n",
       "    </tr>\n",
       "    <tr>\n",
       "      <td>3</td>\n",
       "      <td>amc rebel sst</td>\n",
       "      <td>150</td>\n",
       "      <td>3433</td>\n",
       "      <td>12.0</td>\n",
       "      <td>304.0</td>\n",
       "      <td>16.0</td>\n",
       "    </tr>\n",
       "    <tr>\n",
       "      <td>4</td>\n",
       "      <td>ford torino</td>\n",
       "      <td>140</td>\n",
       "      <td>3449</td>\n",
       "      <td>10.5</td>\n",
       "      <td>302.0</td>\n",
       "      <td>17.0</td>\n",
       "    </tr>\n",
       "  </tbody>\n",
       "</table>\n",
       "</div>"
      ],
      "text/plain": [
       "                  mark_model   hp  weight  acc_time  range_miles   mpg\n",
       "0  chevrolet chevelle malibu  130    3504      12.0        307.0  18.0\n",
       "1          buick skylark 320  165    3693      11.5        350.0  15.0\n",
       "2         plymouth satellite  150    3436      11.0        318.0  18.0\n",
       "3              amc rebel sst  150    3433      12.0        304.0  16.0\n",
       "4                ford torino  140    3449      10.5        302.0  17.0"
      ]
     },
     "metadata": {},
     "output_type": "display_data"
    },
    {
     "data": {
      "text/html": [
       "<div>\n",
       "<style scoped>\n",
       "    .dataframe tbody tr th:only-of-type {\n",
       "        vertical-align: middle;\n",
       "    }\n",
       "\n",
       "    .dataframe tbody tr th {\n",
       "        vertical-align: top;\n",
       "    }\n",
       "\n",
       "    .dataframe thead th {\n",
       "        text-align: right;\n",
       "    }\n",
       "</style>\n",
       "<table border=\"1\" class=\"dataframe\">\n",
       "  <thead>\n",
       "    <tr style=\"text-align: right;\">\n",
       "      <th></th>\n",
       "      <th>price_gallon</th>\n",
       "    </tr>\n",
       "    <tr>\n",
       "      <th>DATE</th>\n",
       "      <th></th>\n",
       "    </tr>\n",
       "  </thead>\n",
       "  <tbody>\n",
       "    <tr>\n",
       "      <td>1990-08-31</td>\n",
       "      <td>1.2180</td>\n",
       "    </tr>\n",
       "    <tr>\n",
       "      <td>1990-09-30</td>\n",
       "      <td>1.2580</td>\n",
       "    </tr>\n",
       "    <tr>\n",
       "      <td>1990-10-31</td>\n",
       "      <td>1.3354</td>\n",
       "    </tr>\n",
       "    <tr>\n",
       "      <td>1990-11-30</td>\n",
       "      <td>1.3240</td>\n",
       "    </tr>\n",
       "    <tr>\n",
       "      <td>1990-12-31</td>\n",
       "      <td>1.3410</td>\n",
       "    </tr>\n",
       "  </tbody>\n",
       "</table>\n",
       "</div>"
      ],
      "text/plain": [
       "            price_gallon\n",
       "DATE                    \n",
       "1990-08-31        1.2180\n",
       "1990-09-30        1.2580\n",
       "1990-10-31        1.3354\n",
       "1990-11-30        1.3240\n",
       "1990-12-31        1.3410"
      ]
     },
     "metadata": {},
     "output_type": "display_data"
    }
   ],
   "source": [
    "cars = pd.read_sql_query(\"SELECT mark_model, hp, weight, acc_time, range_miles ,mpg FROM Cars JOIN Spec ON Cars.id = Spec.car_id WHERE origin='US'\", db.conn)\n",
    "fuel_prices = pd.read_sql_query(\"SELECT date, price_gallon FROM Prices WHERE region = 'US';\", db.conn, index_col='DATE')\n",
    "fuel_prices.index = pd.to_datetime(fuel_prices.index)\n",
    "\n",
    "\n",
    "display(cars.head())\n",
    "display(fuel_prices.head())"
   ]
  },
  {
   "cell_type": "code",
   "execution_count": 5,
   "metadata": {},
   "outputs": [
    {
     "data": {
      "text/html": [
       "<div>\n",
       "<style scoped>\n",
       "    .dataframe tbody tr th:only-of-type {\n",
       "        vertical-align: middle;\n",
       "    }\n",
       "\n",
       "    .dataframe tbody tr th {\n",
       "        vertical-align: top;\n",
       "    }\n",
       "\n",
       "    .dataframe thead th {\n",
       "        text-align: right;\n",
       "    }\n",
       "</style>\n",
       "<table border=\"1\" class=\"dataframe\">\n",
       "  <thead>\n",
       "    <tr style=\"text-align: right;\">\n",
       "      <th></th>\n",
       "      <th>1991</th>\n",
       "      <th>2000</th>\n",
       "      <th>2019</th>\n",
       "    </tr>\n",
       "  </thead>\n",
       "  <tbody>\n",
       "    <tr>\n",
       "      <td>31-01</td>\n",
       "      <td>1.26050</td>\n",
       "      <td>1.27880</td>\n",
       "      <td>2.14500</td>\n",
       "    </tr>\n",
       "    <tr>\n",
       "      <td>28-02</td>\n",
       "      <td>1.09425</td>\n",
       "      <td>1.37050</td>\n",
       "      <td>2.22250</td>\n",
       "    </tr>\n",
       "    <tr>\n",
       "      <td>31-03</td>\n",
       "      <td>1.04000</td>\n",
       "      <td>1.49825</td>\n",
       "      <td>2.44300</td>\n",
       "    </tr>\n",
       "    <tr>\n",
       "      <td>30-04</td>\n",
       "      <td>1.07620</td>\n",
       "      <td>1.43650</td>\n",
       "      <td>2.69400</td>\n",
       "    </tr>\n",
       "    <tr>\n",
       "      <td>31-05</td>\n",
       "      <td>1.12575</td>\n",
       "      <td>1.45640</td>\n",
       "      <td>2.73125</td>\n",
       "    </tr>\n",
       "    <tr>\n",
       "      <td>30-06</td>\n",
       "      <td>1.12825</td>\n",
       "      <td>1.61175</td>\n",
       "      <td>2.60125</td>\n",
       "    </tr>\n",
       "    <tr>\n",
       "      <td>31-07</td>\n",
       "      <td>1.09560</td>\n",
       "      <td>1.52880</td>\n",
       "      <td>2.64040</td>\n",
       "    </tr>\n",
       "    <tr>\n",
       "      <td>31-08</td>\n",
       "      <td>1.11475</td>\n",
       "      <td>1.43925</td>\n",
       "      <td>2.52100</td>\n",
       "    </tr>\n",
       "    <tr>\n",
       "      <td>30-09</td>\n",
       "      <td>1.10920</td>\n",
       "      <td>1.52525</td>\n",
       "      <td>2.48880</td>\n",
       "    </tr>\n",
       "    <tr>\n",
       "      <td>31-10</td>\n",
       "      <td>1.08800</td>\n",
       "      <td>1.50840</td>\n",
       "      <td>2.49725</td>\n",
       "    </tr>\n",
       "    <tr>\n",
       "      <td>30-11</td>\n",
       "      <td>1.09900</td>\n",
       "      <td>1.49475</td>\n",
       "      <td>2.48000</td>\n",
       "    </tr>\n",
       "    <tr>\n",
       "      <td>31-12</td>\n",
       "      <td>1.07620</td>\n",
       "      <td>1.41825</td>\n",
       "      <td>2.46920</td>\n",
       "    </tr>\n",
       "  </tbody>\n",
       "</table>\n",
       "</div>"
      ],
      "text/plain": [
       "          1991     2000     2019\n",
       "31-01  1.26050  1.27880  2.14500\n",
       "28-02  1.09425  1.37050  2.22250\n",
       "31-03  1.04000  1.49825  2.44300\n",
       "30-04  1.07620  1.43650  2.69400\n",
       "31-05  1.12575  1.45640  2.73125\n",
       "30-06  1.12825  1.61175  2.60125\n",
       "31-07  1.09560  1.52880  2.64040\n",
       "31-08  1.11475  1.43925  2.52100\n",
       "30-09  1.10920  1.52525  2.48880\n",
       "31-10  1.08800  1.50840  2.49725\n",
       "30-11  1.09900  1.49475  2.48000\n",
       "31-12  1.07620  1.41825  2.46920"
      ]
     },
     "execution_count": 5,
     "metadata": {},
     "output_type": "execute_result"
    }
   ],
   "source": [
    "yr_91 = fuel_prices.loc['1991', 'price_gallon'].values\n",
    "yr_00 = fuel_prices.loc['2000', 'price_gallon'].values\n",
    "yr_19 = fuel_prices.loc['2019', 'price_gallon'].values\n",
    "chg_idx = fuel_prices.loc['1991', 'price_gallon'].index.strftime('%d-%m')\n",
    "\n",
    "chg = pd.DataFrame({'1991': yr_91,'2000':yr_00 ,'2019':yr_19}, index=chg_idx)\n",
    "chg"
   ]
  },
  {
   "cell_type": "code",
   "execution_count": 6,
   "metadata": {},
   "outputs": [
    {
     "data": {
      "image/png": "[encoded data removed]",
      "text/plain": [
       "<Figure size 432x288 with 1 Axes>"
      ]
     },
     "metadata": {
      "needs_background": "light"
     },
     "output_type": "display_data"
    }
   ],
   "source": [
    "chg.plot()\n",
    "plt.xlabel('Date')\n",
    "plt.ylabel('Gallon price [$]')\n",
    "plt.legend\n",
    "plt.show()"
   ]
  },
  {
   "cell_type": "code",
   "execution_count": 7,
   "metadata": {},
   "outputs": [
    {
     "name": "stdout",
     "output_type": "stream",
     "text": [
      "31-01    0.88450\n",
      "28-02    1.12825\n",
      "31-03    1.40300\n",
      "30-04    1.61780\n",
      "31-05    1.60550\n",
      "30-06    1.47300\n",
      "31-07    1.54480\n",
      "31-08    1.40625\n",
      "30-09    1.37960\n",
      "31-10    1.40925\n",
      "30-11    1.38100\n",
      "31-12    1.39300\n",
      "dtype: float64\n"
     ]
    }
   ],
   "source": [
    "# Change in the fuel price\n",
    "print(chg['2019'] - chg['1991'])"
   ]
  },
  {
   "cell_type": "code",
   "execution_count": 8,
   "metadata": {},
   "outputs": [
    {
     "data": {
      "text/html": [
       "<div>\n",
       "<style scoped>\n",
       "    .dataframe tbody tr th:only-of-type {\n",
       "        vertical-align: middle;\n",
       "    }\n",
       "\n",
       "    .dataframe tbody tr th {\n",
       "        vertical-align: top;\n",
       "    }\n",
       "\n",
       "    .dataframe thead th {\n",
       "        text-align: right;\n",
       "    }\n",
       "</style>\n",
       "<table border=\"1\" class=\"dataframe\">\n",
       "  <thead>\n",
       "    <tr style=\"text-align: right;\">\n",
       "      <th></th>\n",
       "      <th>price_gallon</th>\n",
       "    </tr>\n",
       "    <tr>\n",
       "      <th>DATE</th>\n",
       "      <th></th>\n",
       "    </tr>\n",
       "  </thead>\n",
       "  <tbody>\n",
       "    <tr>\n",
       "      <td>1990-12-31</td>\n",
       "      <td>NaN</td>\n",
       "    </tr>\n",
       "    <tr>\n",
       "      <td>1991-12-31</td>\n",
       "      <td>-19.746458</td>\n",
       "    </tr>\n",
       "    <tr>\n",
       "      <td>1992-12-31</td>\n",
       "      <td>0.120795</td>\n",
       "    </tr>\n",
       "    <tr>\n",
       "      <td>1993-12-31</td>\n",
       "      <td>-5.893271</td>\n",
       "    </tr>\n",
       "    <tr>\n",
       "      <td>1994-12-31</td>\n",
       "      <td>4.511834</td>\n",
       "    </tr>\n",
       "    <tr>\n",
       "      <td>1995-12-31</td>\n",
       "      <td>0.542581</td>\n",
       "    </tr>\n",
       "    <tr>\n",
       "      <td>1996-12-31</td>\n",
       "      <td>15.757860</td>\n",
       "    </tr>\n",
       "    <tr>\n",
       "      <td>1997-12-31</td>\n",
       "      <td>-9.307605</td>\n",
       "    </tr>\n",
       "    <tr>\n",
       "      <td>1998-12-31</td>\n",
       "      <td>-17.508493</td>\n",
       "    </tr>\n",
       "    <tr>\n",
       "      <td>1999-12-31</td>\n",
       "      <td>36.629640</td>\n",
       "    </tr>\n",
       "    <tr>\n",
       "      <td>2000-12-31</td>\n",
       "      <td>12.492564</td>\n",
       "    </tr>\n",
       "    <tr>\n",
       "      <td>2001-12-31</td>\n",
       "      <td>-24.413890</td>\n",
       "    </tr>\n",
       "    <tr>\n",
       "      <td>2002-12-31</td>\n",
       "      <td>25.783582</td>\n",
       "    </tr>\n",
       "    <tr>\n",
       "      <td>2003-12-31</td>\n",
       "      <td>7.401365</td>\n",
       "    </tr>\n",
       "    <tr>\n",
       "      <td>2004-12-31</td>\n",
       "      <td>24.257699</td>\n",
       "    </tr>\n",
       "    <tr>\n",
       "      <td>2005-12-31</td>\n",
       "      <td>20.797444</td>\n",
       "    </tr>\n",
       "    <tr>\n",
       "      <td>2006-12-31</td>\n",
       "      <td>5.083381</td>\n",
       "    </tr>\n",
       "    <tr>\n",
       "      <td>2007-12-31</td>\n",
       "      <td>30.624932</td>\n",
       "    </tr>\n",
       "    <tr>\n",
       "      <td>2008-12-31</td>\n",
       "      <td>-44.071318</td>\n",
       "    </tr>\n",
       "    <tr>\n",
       "      <td>2009-12-31</td>\n",
       "      <td>53.868049</td>\n",
       "    </tr>\n",
       "    <tr>\n",
       "      <td>2010-12-31</td>\n",
       "      <td>14.915782</td>\n",
       "    </tr>\n",
       "    <tr>\n",
       "      <td>2011-12-31</td>\n",
       "      <td>9.124799</td>\n",
       "    </tr>\n",
       "    <tr>\n",
       "      <td>2012-12-31</td>\n",
       "      <td>1.130435</td>\n",
       "    </tr>\n",
       "    <tr>\n",
       "      <td>2013-12-31</td>\n",
       "      <td>-1.461737</td>\n",
       "    </tr>\n",
       "    <tr>\n",
       "      <td>2014-12-31</td>\n",
       "      <td>-22.456993</td>\n",
       "    </tr>\n",
       "    <tr>\n",
       "      <td>2015-12-31</td>\n",
       "      <td>-21.790853</td>\n",
       "    </tr>\n",
       "    <tr>\n",
       "      <td>2016-12-31</td>\n",
       "      <td>12.641316</td>\n",
       "    </tr>\n",
       "    <tr>\n",
       "      <td>2017-12-31</td>\n",
       "      <td>8.953011</td>\n",
       "    </tr>\n",
       "    <tr>\n",
       "      <td>2018-12-31</td>\n",
       "      <td>-5.244426</td>\n",
       "    </tr>\n",
       "    <tr>\n",
       "      <td>2019-12-31</td>\n",
       "      <td>9.111798</td>\n",
       "    </tr>\n",
       "    <tr>\n",
       "      <td>2020-12-31</td>\n",
       "      <td>-5.880447</td>\n",
       "    </tr>\n",
       "  </tbody>\n",
       "</table>\n",
       "</div>"
      ],
      "text/plain": [
       "            price_gallon\n",
       "DATE                    \n",
       "1990-12-31           NaN\n",
       "1991-12-31    -19.746458\n",
       "1992-12-31      0.120795\n",
       "1993-12-31     -5.893271\n",
       "1994-12-31      4.511834\n",
       "1995-12-31      0.542581\n",
       "1996-12-31     15.757860\n",
       "1997-12-31     -9.307605\n",
       "1998-12-31    -17.508493\n",
       "1999-12-31     36.629640\n",
       "2000-12-31     12.492564\n",
       "2001-12-31    -24.413890\n",
       "2002-12-31     25.783582\n",
       "2003-12-31      7.401365\n",
       "2004-12-31     24.257699\n",
       "2005-12-31     20.797444\n",
       "2006-12-31      5.083381\n",
       "2007-12-31     30.624932\n",
       "2008-12-31    -44.071318\n",
       "2009-12-31     53.868049\n",
       "2010-12-31     14.915782\n",
       "2011-12-31      9.124799\n",
       "2012-12-31      1.130435\n",
       "2013-12-31     -1.461737\n",
       "2014-12-31    -22.456993\n",
       "2015-12-31    -21.790853\n",
       "2016-12-31     12.641316\n",
       "2017-12-31      8.953011\n",
       "2018-12-31     -5.244426\n",
       "2019-12-31      9.111798\n",
       "2020-12-31     -5.880447"
      ]
     },
     "execution_count": 8,
     "metadata": {},
     "output_type": "execute_result"
    }
   ],
   "source": [
    "# Calculating the yearly percentage change\n",
    "yearly_change = fuel_prices.resample('A').last().pct_change() * 100\n",
    "yearly_change"
   ]
  },
  {
   "cell_type": "markdown",
   "metadata": {},
   "source": [
    "## Plotting the yearly price fluctuations"
   ]
  },
  {
   "cell_type": "code",
   "execution_count": 9,
   "metadata": {},
   "outputs": [
    {
     "data": {
      "text/plain": [
       "Text(0.5, 0, 'Year')"
      ]
     },
     "execution_count": 9,
     "metadata": {},
     "output_type": "execute_result"
    },
    {
     "data": {
      "image/png": "[encoded data removed]",
      "text/plain": [
       "<Figure size 432x288 with 1 Axes>"
      ]
     },
     "metadata": {
      "needs_background": "light"
     },
     "output_type": "display_data"
    }
   ],
   "source": [
    "yearly_change.plot()\n",
    "\n",
    "plt.title('Percentage price fluctuations')\n",
    "plt.ylabel('Pct price change')\n",
    "plt.xlabel('Year')"
   ]
  },
  {
   "cell_type": "markdown",
   "metadata": {},
   "source": [
    "## Plotting the fuel price change over the last 20 years"
   ]
  },
  {
   "cell_type": "code",
   "execution_count": 10,
   "metadata": {
    "scrolled": true
   },
   "outputs": [
    {
     "data": {
      "image/png": "[encoded data removed]",
      "text/plain": [
       "<Figure size 432x288 with 1 Axes>"
      ]
     },
     "metadata": {
      "needs_background": "light"
     },
     "output_type": "display_data"
    }
   ],
   "source": [
    "fuel_prices.plot()\n",
    "plt.title('Fuel price change [$]')\n",
    "plt.xlabel('Date')\n",
    "plt.ylabel('Price per gallon')\n",
    "plt.xticks(rotation=0)\n",
    "plt.show()"
   ]
  },
  {
   "cell_type": "markdown",
   "metadata": {},
   "source": [
    "## Getting the average mileage per year"
   ]
  },
  {
   "cell_type": "code",
   "execution_count": 11,
   "metadata": {},
   "outputs": [
    {
     "data": {
      "text/plain": [
       "13476"
      ]
     },
     "execution_count": 11,
     "metadata": {},
     "output_type": "execute_result"
    }
   ],
   "source": [
    "from selenium import webdriver\n",
    "\n",
    "driver = webdriver.Chrome()\n",
    "\n",
    "driver.get('https://www.google.com/search?q=average+mileage+per+year&oq=average+mile&aqs=chrome.1.69i57j69i59.3633j0j7&sourceid=chrome&ie=UTF-8')\n",
    "avg_mileage = driver.find_element_by_xpath('//*[@id=\"rso\"]/div[1]/div/div[1]/div/div[1]/div/div[1]/div/div[1]').text.split()[0]\n",
    "\n",
    "driver.close()\n",
    "\n",
    "avg_mileage = int(avg_mileage.replace(',', ''))\n",
    "avg_mileage"
   ]
  },
  {
   "cell_type": "code",
   "execution_count": 12,
   "metadata": {},
   "outputs": [
    {
     "data": {
      "text/html": [
       "<div>\n",
       "<style scoped>\n",
       "    .dataframe tbody tr th:only-of-type {\n",
       "        vertical-align: middle;\n",
       "    }\n",
       "\n",
       "    .dataframe tbody tr th {\n",
       "        vertical-align: top;\n",
       "    }\n",
       "\n",
       "    .dataframe thead th {\n",
       "        text-align: right;\n",
       "    }\n",
       "</style>\n",
       "<table border=\"1\" class=\"dataframe\">\n",
       "  <thead>\n",
       "    <tr style=\"text-align: right;\">\n",
       "      <th></th>\n",
       "      <th>mark_model</th>\n",
       "      <th>hp</th>\n",
       "      <th>weight</th>\n",
       "      <th>acc_time</th>\n",
       "      <th>range_miles</th>\n",
       "      <th>mpg</th>\n",
       "    </tr>\n",
       "  </thead>\n",
       "  <tbody>\n",
       "    <tr>\n",
       "      <td>0</td>\n",
       "      <td>chevrolet chevelle malibu</td>\n",
       "      <td>130</td>\n",
       "      <td>3504</td>\n",
       "      <td>12.0</td>\n",
       "      <td>307.0</td>\n",
       "      <td>18.0</td>\n",
       "    </tr>\n",
       "    <tr>\n",
       "      <td>1</td>\n",
       "      <td>buick skylark 320</td>\n",
       "      <td>165</td>\n",
       "      <td>3693</td>\n",
       "      <td>11.5</td>\n",
       "      <td>350.0</td>\n",
       "      <td>15.0</td>\n",
       "    </tr>\n",
       "    <tr>\n",
       "      <td>2</td>\n",
       "      <td>plymouth satellite</td>\n",
       "      <td>150</td>\n",
       "      <td>3436</td>\n",
       "      <td>11.0</td>\n",
       "      <td>318.0</td>\n",
       "      <td>18.0</td>\n",
       "    </tr>\n",
       "    <tr>\n",
       "      <td>3</td>\n",
       "      <td>amc rebel sst</td>\n",
       "      <td>150</td>\n",
       "      <td>3433</td>\n",
       "      <td>12.0</td>\n",
       "      <td>304.0</td>\n",
       "      <td>16.0</td>\n",
       "    </tr>\n",
       "    <tr>\n",
       "      <td>4</td>\n",
       "      <td>ford torino</td>\n",
       "      <td>140</td>\n",
       "      <td>3449</td>\n",
       "      <td>10.5</td>\n",
       "      <td>302.0</td>\n",
       "      <td>17.0</td>\n",
       "    </tr>\n",
       "    <tr>\n",
       "      <td>...</td>\n",
       "      <td>...</td>\n",
       "      <td>...</td>\n",
       "      <td>...</td>\n",
       "      <td>...</td>\n",
       "      <td>...</td>\n",
       "      <td>...</td>\n",
       "    </tr>\n",
       "    <tr>\n",
       "      <td>180</td>\n",
       "      <td>chevrolet camaro</td>\n",
       "      <td>90</td>\n",
       "      <td>2950</td>\n",
       "      <td>17.3</td>\n",
       "      <td>151.0</td>\n",
       "      <td>27.0</td>\n",
       "    </tr>\n",
       "    <tr>\n",
       "      <td>181</td>\n",
       "      <td>ford mustang gl</td>\n",
       "      <td>86</td>\n",
       "      <td>2790</td>\n",
       "      <td>15.6</td>\n",
       "      <td>140.0</td>\n",
       "      <td>27.0</td>\n",
       "    </tr>\n",
       "    <tr>\n",
       "      <td>182</td>\n",
       "      <td>dodge rampage</td>\n",
       "      <td>84</td>\n",
       "      <td>2295</td>\n",
       "      <td>11.6</td>\n",
       "      <td>135.0</td>\n",
       "      <td>32.0</td>\n",
       "    </tr>\n",
       "    <tr>\n",
       "      <td>183</td>\n",
       "      <td>ford ranger</td>\n",
       "      <td>79</td>\n",
       "      <td>2625</td>\n",
       "      <td>18.6</td>\n",
       "      <td>120.0</td>\n",
       "      <td>28.0</td>\n",
       "    </tr>\n",
       "    <tr>\n",
       "      <td>184</td>\n",
       "      <td>chevy s-10</td>\n",
       "      <td>82</td>\n",
       "      <td>2720</td>\n",
       "      <td>19.4</td>\n",
       "      <td>119.0</td>\n",
       "      <td>31.0</td>\n",
       "    </tr>\n",
       "  </tbody>\n",
       "</table>\n",
       "<p>185 rows × 6 columns</p>\n",
       "</div>"
      ],
      "text/plain": [
       "                    mark_model   hp  weight  acc_time  range_miles   mpg\n",
       "0    chevrolet chevelle malibu  130    3504      12.0        307.0  18.0\n",
       "1            buick skylark 320  165    3693      11.5        350.0  15.0\n",
       "2           plymouth satellite  150    3436      11.0        318.0  18.0\n",
       "3                amc rebel sst  150    3433      12.0        304.0  16.0\n",
       "4                  ford torino  140    3449      10.5        302.0  17.0\n",
       "..                         ...  ...     ...       ...          ...   ...\n",
       "180           chevrolet camaro   90    2950      17.3        151.0  27.0\n",
       "181            ford mustang gl   86    2790      15.6        140.0  27.0\n",
       "182              dodge rampage   84    2295      11.6        135.0  32.0\n",
       "183                ford ranger   79    2625      18.6        120.0  28.0\n",
       "184                 chevy s-10   82    2720      19.4        119.0  31.0\n",
       "\n",
       "[185 rows x 6 columns]"
      ]
     },
     "metadata": {},
     "output_type": "display_data"
    }
   ],
   "source": [
    "display(cars)"
   ]
  },
  {
   "cell_type": "markdown",
   "metadata": {},
   "source": [
    "## Yearly cost for each car"
   ]
  },
  {
   "cell_type": "markdown",
   "metadata": {},
   "source": [
    "### Computation description"
   ]
  },
  {
   "cell_type": "raw",
   "metadata": {},
   "source": [
    "average yearly mileage divided by range miles gives the number of refuelings\n",
    "\n",
    "range miles divided by miles per gallon gives the capacity of the fuel tank\n",
    "\n",
    "gallons bought this year = number of refueling * capacity\n",
    "\n",
    "gallons bought each month = gallons bought this year / 12\n",
    "\n",
    "monthly expenses for each car = gallons bought each month * monthly average fuel price\n",
    "\n",
    "new column of the df with monthly expenses for each car"
   ]
  },
  {
   "cell_type": "markdown",
   "metadata": {},
   "source": [
    "### Calculations"
   ]
  },
  {
   "cell_type": "code",
   "execution_count": null,
   "metadata": {},
   "outputs": [],
   "source": []
  },
  {
   "cell_type": "markdown",
   "metadata": {},
   "source": [
    "## Feature correlations"
   ]
  },
  {
   "cell_type": "code",
   "execution_count": null,
   "metadata": {},
   "outputs": [],
   "source": []
  },
  {
   "cell_type": "markdown",
   "metadata": {},
   "source": [
    "## Predicting mpg based on the cars specifications"
   ]
  },
  {
   "cell_type": "code",
   "execution_count": 13,
   "metadata": {},
   "outputs": [],
   "source": [
    "from sklearn.ensemble import RandomForestRegressor\n",
    "from sklearn.metrics import mean_squared_error as MSE\n",
    "from sklearn.model_selection import train_test_split, RandomizedSearchCV"
   ]
  },
  {
   "cell_type": "code",
   "execution_count": 15,
   "metadata": {},
   "outputs": [
    {
     "data": {
      "text/html": [
       "<div>\n",
       "<style scoped>\n",
       "    .dataframe tbody tr th:only-of-type {\n",
       "        vertical-align: middle;\n",
       "    }\n",
       "\n",
       "    .dataframe tbody tr th {\n",
       "        vertical-align: top;\n",
       "    }\n",
       "\n",
       "    .dataframe thead th {\n",
       "        text-align: right;\n",
       "    }\n",
       "</style>\n",
       "<table border=\"1\" class=\"dataframe\">\n",
       "  <thead>\n",
       "    <tr style=\"text-align: right;\">\n",
       "      <th></th>\n",
       "      <th>mark_model</th>\n",
       "      <th>hp</th>\n",
       "      <th>weight</th>\n",
       "      <th>acc_time</th>\n",
       "      <th>range_miles</th>\n",
       "      <th>mpg</th>\n",
       "    </tr>\n",
       "  </thead>\n",
       "  <tbody>\n",
       "    <tr>\n",
       "      <td>0</td>\n",
       "      <td>chevrolet chevelle malibu</td>\n",
       "      <td>130</td>\n",
       "      <td>3504</td>\n",
       "      <td>12.0</td>\n",
       "      <td>307.0</td>\n",
       "      <td>18.0</td>\n",
       "    </tr>\n",
       "    <tr>\n",
       "      <td>1</td>\n",
       "      <td>buick skylark 320</td>\n",
       "      <td>165</td>\n",
       "      <td>3693</td>\n",
       "      <td>11.5</td>\n",
       "      <td>350.0</td>\n",
       "      <td>15.0</td>\n",
       "    </tr>\n",
       "    <tr>\n",
       "      <td>2</td>\n",
       "      <td>plymouth satellite</td>\n",
       "      <td>150</td>\n",
       "      <td>3436</td>\n",
       "      <td>11.0</td>\n",
       "      <td>318.0</td>\n",
       "      <td>18.0</td>\n",
       "    </tr>\n",
       "    <tr>\n",
       "      <td>3</td>\n",
       "      <td>amc rebel sst</td>\n",
       "      <td>150</td>\n",
       "      <td>3433</td>\n",
       "      <td>12.0</td>\n",
       "      <td>304.0</td>\n",
       "      <td>16.0</td>\n",
       "    </tr>\n",
       "    <tr>\n",
       "      <td>4</td>\n",
       "      <td>ford torino</td>\n",
       "      <td>140</td>\n",
       "      <td>3449</td>\n",
       "      <td>10.5</td>\n",
       "      <td>302.0</td>\n",
       "      <td>17.0</td>\n",
       "    </tr>\n",
       "    <tr>\n",
       "      <td>...</td>\n",
       "      <td>...</td>\n",
       "      <td>...</td>\n",
       "      <td>...</td>\n",
       "      <td>...</td>\n",
       "      <td>...</td>\n",
       "      <td>...</td>\n",
       "    </tr>\n",
       "    <tr>\n",
       "      <td>180</td>\n",
       "      <td>chevrolet camaro</td>\n",
       "      <td>90</td>\n",
       "      <td>2950</td>\n",
       "      <td>17.3</td>\n",
       "      <td>151.0</td>\n",
       "      <td>27.0</td>\n",
       "    </tr>\n",
       "    <tr>\n",
       "      <td>181</td>\n",
       "      <td>ford mustang gl</td>\n",
       "      <td>86</td>\n",
       "      <td>2790</td>\n",
       "      <td>15.6</td>\n",
       "      <td>140.0</td>\n",
       "      <td>27.0</td>\n",
       "    </tr>\n",
       "    <tr>\n",
       "      <td>182</td>\n",
       "      <td>dodge rampage</td>\n",
       "      <td>84</td>\n",
       "      <td>2295</td>\n",
       "      <td>11.6</td>\n",
       "      <td>135.0</td>\n",
       "      <td>32.0</td>\n",
       "    </tr>\n",
       "    <tr>\n",
       "      <td>183</td>\n",
       "      <td>ford ranger</td>\n",
       "      <td>79</td>\n",
       "      <td>2625</td>\n",
       "      <td>18.6</td>\n",
       "      <td>120.0</td>\n",
       "      <td>28.0</td>\n",
       "    </tr>\n",
       "    <tr>\n",
       "      <td>184</td>\n",
       "      <td>chevy s-10</td>\n",
       "      <td>82</td>\n",
       "      <td>2720</td>\n",
       "      <td>19.4</td>\n",
       "      <td>119.0</td>\n",
       "      <td>31.0</td>\n",
       "    </tr>\n",
       "  </tbody>\n",
       "</table>\n",
       "<p>185 rows × 6 columns</p>\n",
       "</div>"
      ],
      "text/plain": [
       "                    mark_model   hp  weight  acc_time  range_miles   mpg\n",
       "0    chevrolet chevelle malibu  130    3504      12.0        307.0  18.0\n",
       "1            buick skylark 320  165    3693      11.5        350.0  15.0\n",
       "2           plymouth satellite  150    3436      11.0        318.0  18.0\n",
       "3                amc rebel sst  150    3433      12.0        304.0  16.0\n",
       "4                  ford torino  140    3449      10.5        302.0  17.0\n",
       "..                         ...  ...     ...       ...          ...   ...\n",
       "180           chevrolet camaro   90    2950      17.3        151.0  27.0\n",
       "181            ford mustang gl   86    2790      15.6        140.0  27.0\n",
       "182              dodge rampage   84    2295      11.6        135.0  32.0\n",
       "183                ford ranger   79    2625      18.6        120.0  28.0\n",
       "184                 chevy s-10   82    2720      19.4        119.0  31.0\n",
       "\n",
       "[185 rows x 6 columns]"
      ]
     },
     "metadata": {},
     "output_type": "display_data"
    }
   ],
   "source": [
    "display(cars)"
   ]
  },
  {
   "cell_type": "code",
   "execution_count": 40,
   "metadata": {},
   "outputs": [],
   "source": [
    "X = cars.drop(['mark_model', 'mpg'], axis=1).values\n",
    "y = cars['mpg'].values"
   ]
  },
  {
   "cell_type": "code",
   "execution_count": 41,
   "metadata": {},
   "outputs": [
    {
     "data": {
      "text/plain": [
       "{'bootstrap': True,\n",
       " 'criterion': 'mse',\n",
       " 'max_depth': None,\n",
       " 'max_features': 'auto',\n",
       " 'max_leaf_nodes': None,\n",
       " 'min_impurity_decrease': 0.0,\n",
       " 'min_impurity_split': None,\n",
       " 'min_samples_leaf': 1,\n",
       " 'min_samples_split': 2,\n",
       " 'min_weight_fraction_leaf': 0.0,\n",
       " 'n_estimators': 'warn',\n",
       " 'n_jobs': None,\n",
       " 'oob_score': False,\n",
       " 'random_state': None,\n",
       " 'verbose': 0,\n",
       " 'warm_start': False}"
      ]
     },
     "execution_count": 41,
     "metadata": {},
     "output_type": "execute_result"
    }
   ],
   "source": [
    "rf = RandomForestRegressor()\n",
    "\n",
    "rf.get_params()"
   ]
  },
  {
   "cell_type": "code",
   "execution_count": 43,
   "metadata": {},
   "outputs": [],
   "source": [
    "X_train, X_test, y_train, y_test = train_test_split(X, y, test_size=0.2, random_state=42)"
   ]
  },
  {
   "cell_type": "code",
   "execution_count": 94,
   "metadata": {},
   "outputs": [
    {
     "name": "stderr",
     "output_type": "stream",
     "text": [
      "C:\\Users\\Kuba\\Anaconda3\\lib\\site-packages\\sklearn\\model_selection\\_search.py:814: DeprecationWarning: The default of the `iid` parameter will change from True to False in version 0.22 and will be removed in 0.24. This will change numeric results when test-set sizes are unequal.\n",
      "  DeprecationWarning)\n"
     ]
    },
    {
     "data": {
      "text/plain": [
       "RandomizedSearchCV(cv=3, error_score='raise',\n",
       "                   estimator=RandomForestRegressor(bootstrap=True,\n",
       "                                                   criterion='mse',\n",
       "                                                   max_depth=None,\n",
       "                                                   max_features='auto',\n",
       "                                                   max_leaf_nodes=None,\n",
       "                                                   min_impurity_decrease=0.0,\n",
       "                                                   min_impurity_split=None,\n",
       "                                                   min_samples_leaf=1,\n",
       "                                                   min_samples_split=2,\n",
       "                                                   min_weight_fraction_leaf=0.0,\n",
       "                                                   n_estimators='warn',\n",
       "                                                   n_jobs=None, oob_score=False,\n",
       "                                                   random_state=None, verbose=0,\n",
       "                                                   warm_start=False),\n",
       "                   iid='warn', n_iter=10, n_jobs=-1,\n",
       "                   param_distributions={'max_depth': [3, 4, 5, 6],\n",
       "                                        'min_samples_leaf': [0.01, 0.012,\n",
       "                                                             0.016],\n",
       "                                        'n_estimators': [200, 300, 400, 500,\n",
       "                                                         600]},\n",
       "                   pre_dispatch='2*n_jobs', random_state=None, refit=True,\n",
       "                   return_train_score=False, scoring='neg_mean_squared_error',\n",
       "                   verbose=0)"
      ]
     },
     "execution_count": 94,
     "metadata": {},
     "output_type": "execute_result"
    }
   ],
   "source": [
    "param_grid = {\n",
    "             'max_depth': [3, 4, 5, 6],\n",
    "             'n_estimators': [200, 300, 400, 500, 600], \n",
    "             'min_samples_leaf': [0.01, 0.012, 0.016]\n",
    "             }\n",
    "\n",
    "rand_cv = RandomizedSearchCV(rf, param_grid, cv=3, scoring='neg_mean_squared_error', error_score='raise', n_jobs=-1)\n",
    "\n",
    "rand_cv.fit(X_train, y_train)"
   ]
  },
  {
   "cell_type": "code",
   "execution_count": 95,
   "metadata": {},
   "outputs": [
    {
     "data": {
      "text/plain": [
       "{'n_estimators': 500, 'min_samples_leaf': 0.01, 'max_depth': 6}"
      ]
     },
     "execution_count": 95,
     "metadata": {},
     "output_type": "execute_result"
    }
   ],
   "source": [
    "rand_cv.best_params_"
   ]
  },
  {
   "cell_type": "code",
   "execution_count": 96,
   "metadata": {},
   "outputs": [],
   "source": [
    "best_model = rand_cv.best_estimator_"
   ]
  },
  {
   "cell_type": "code",
   "execution_count": 97,
   "metadata": {},
   "outputs": [],
   "source": [
    "y_pred = best_model.predict(X_test)"
   ]
  },
  {
   "cell_type": "code",
   "execution_count": 99,
   "metadata": {},
   "outputs": [
    {
     "name": "stderr",
     "output_type": "stream",
     "text": [
      "C:\\Users\\Kuba\\Anaconda3\\lib\\site-packages\\ipykernel_launcher.py:1: RuntimeWarning: invalid value encountered in double_scalars\n",
      "  \"\"\"Entry point for launching an IPython kernel.\n"
     ]
    },
    {
     "data": {
      "text/plain": [
       "nan"
      ]
     },
     "execution_count": 99,
     "metadata": {},
     "output_type": "execute_result"
    }
   ],
   "source": [
    "(MSE(y_test, y_pred))**0.5"
   ]
  },
  {
   "cell_type": "code",
   "execution_count": 100,
   "metadata": {},
   "outputs": [
    {
     "data": {
      "text/plain": [
       "array([13.64571041, 14.17388137, 27.42770743, 17.09894587, 30.48028171,\n",
       "       21.62838667, 18.12209507, 15.13169505, 25.58970817, 15.77574336,\n",
       "       17.52822607, 29.62574285, 14.36117528, 23.93391015, 15.28450213,\n",
       "       21.41163214, 15.81744792, 31.60333619, 18.01226005, 15.19273611,\n",
       "       20.11031881, 20.99788386, 18.32996495, 20.4596656 , 14.25848607,\n",
       "       18.63067204, 14.01744272, 11.53980165, 29.37536219, 14.51816352,\n",
       "       13.15184997, 14.90278069, 35.27359762, 30.56140004, 24.56335   ,\n",
       "       12.45962761, 18.88907211])"
      ]
     },
     "execution_count": 100,
     "metadata": {},
     "output_type": "execute_result"
    }
   ],
   "source": [
    "y_pred"
   ]
  },
  {
   "cell_type": "code",
   "execution_count": 103,
   "metadata": {},
   "outputs": [
    {
     "data": {
      "text/plain": [
       "{'mean_fit_time': array([0.69076268, 1.03504848, 1.09244959, 0.39278722, 1.0311385 ,\n",
       "        0.67334859, 1.0030419 , 0.60629408, 0.60362315, 0.70794312]),\n",
       " 'std_fit_time': array([0.02840836, 0.06250321, 0.02015277, 0.03723664, 0.03256294,\n",
       "        0.08826073, 0.01336079, 0.00428443, 0.01263472, 0.03150595]),\n",
       " 'mean_score_time': array([0.03613091, 0.0665346 , 0.0907491 , 0.02604008, 0.08912349,\n",
       "        0.05515448, 0.08795079, 0.04686371, 0.03875677, 0.03124269]),\n",
       " 'std_score_time': array([8.14166945e-03, 5.72668901e-03, 7.93608165e-03, 7.35850259e-03,\n",
       "        2.73780603e-02, 1.17244666e-02, 2.97354308e-02, 6.83651389e-07,\n",
       "        1.06261197e-02, 4.05233662e-07]),\n",
       " 'param_n_estimators': masked_array(data=[300, 500, 600, 200, 500, 300, 500, 300, 300, 400],\n",
       "              mask=[False, False, False, False, False, False, False, False,\n",
       "                    False, False],\n",
       "        fill_value='?',\n",
       "             dtype=object),\n",
       " 'param_min_samples_leaf': masked_array(data=[0.016, 0.01, 0.016, 0.012, 0.01, 0.012, 0.01, 0.012,\n",
       "                    0.012, 0.016],\n",
       "              mask=[False, False, False, False, False, False, False, False,\n",
       "                    False, False],\n",
       "        fill_value='?',\n",
       "             dtype=object),\n",
       " 'param_max_depth': masked_array(data=[6, 5, 3, 6, 6, 4, 3, 6, 3, 5],\n",
       "              mask=[False, False, False, False, False, False, False, False,\n",
       "                    False, False],\n",
       "        fill_value='?',\n",
       "             dtype=object),\n",
       " 'params': [{'n_estimators': 300, 'min_samples_leaf': 0.016, 'max_depth': 6},\n",
       "  {'n_estimators': 500, 'min_samples_leaf': 0.01, 'max_depth': 5},\n",
       "  {'n_estimators': 600, 'min_samples_leaf': 0.016, 'max_depth': 3},\n",
       "  {'n_estimators': 200, 'min_samples_leaf': 0.012, 'max_depth': 6},\n",
       "  {'n_estimators': 500, 'min_samples_leaf': 0.01, 'max_depth': 6},\n",
       "  {'n_estimators': 300, 'min_samples_leaf': 0.012, 'max_depth': 4},\n",
       "  {'n_estimators': 500, 'min_samples_leaf': 0.01, 'max_depth': 3},\n",
       "  {'n_estimators': 300, 'min_samples_leaf': 0.012, 'max_depth': 6},\n",
       "  {'n_estimators': 300, 'min_samples_leaf': 0.012, 'max_depth': 3},\n",
       "  {'n_estimators': 400, 'min_samples_leaf': 0.016, 'max_depth': 5}],\n",
       " 'split0_test_score': array([-7.85885042, -7.62337115, -7.88673429, -7.83197251, -7.7566613 ,\n",
       "        -7.67757929, -8.11425831, -7.68930623, -8.03164322, -7.83846473]),\n",
       " 'split1_test_score': array([-4.28732733, -4.10679832, -4.48582526, -4.35211451, -3.71038733,\n",
       "        -4.30316861, -4.51778988, -4.09729411, -4.42386208, -4.09897954]),\n",
       " 'split2_test_score': array([-12.04911847, -11.70801919, -12.78366984, -11.92436728,\n",
       "        -11.42783115, -12.18548579, -12.49762675, -12.19154536,\n",
       "        -12.80885404, -12.29332405]),\n",
       " 'mean_test_score': array([-8.06370517, -7.8114501 , -8.38204037, -8.03477185, -7.63247142,\n",
       "        -8.05285831, -8.37478602, -7.99066517, -8.41881926, -8.07531157]),\n",
       " 'std_test_score': array([3.16140274, 3.09560037, 3.3946035 , 3.0843013 , 3.14122395,\n",
       "        3.2182357 , 3.25205885, 3.30030891, 3.42276519, 3.33829567]),\n",
       " 'rank_test_score': array([ 6,  2,  9,  4,  1,  5,  8,  3, 10,  7])}"
      ]
     },
     "execution_count": 103,
     "metadata": {},
     "output_type": "execute_result"
    }
   ],
   "source": [
    "rand_cv.cv_results_"
   ]
  },
  {
   "cell_type": "markdown",
   "metadata": {},
   "source": [
    "## Feature importance"
   ]
  },
  {
   "cell_type": "code",
   "execution_count": 118,
   "metadata": {},
   "outputs": [
    {
     "data": {
      "text/plain": [
       "[(0.6124742144772519, 'range_miles'),\n",
       " (0.2204399263193544, 'weight'),\n",
       " (0.1313599489356924, 'hp'),\n",
       " (0.03572591026770117, 'acc_time')]"
      ]
     },
     "execution_count": 118,
     "metadata": {},
     "output_type": "execute_result"
    }
   ],
   "source": [
    "feature_names = ['hp', 'weight', 'acc_time', 'range_miles']\n",
    "feature_importances = best_model.feature_importances_\n",
    "\n",
    "importance = sorted(zip(feature_importances, feature_names), reverse=True)\n",
    "importance"
   ]
  },
  {
   "cell_type": "code",
   "execution_count": 119,
   "metadata": {},
   "outputs": [
    {
     "data": {
      "text/plain": [
       "<BarContainer object of 4 artists>"
      ]
     },
     "execution_count": 119,
     "metadata": {},
     "output_type": "execute_result"
    },
    {
     "data": {
      "image/png": "[encoded data removed]",
      "text/plain": [
       "<Figure size 432x288 with 1 Axes>"
      ]
     },
     "metadata": {
      "needs_background": "light"
     },
     "output_type": "display_data"
    }
   ],
   "source": [
    "plt.bar(feature_names, feature_importances)"
   ]
  },
  {
   "cell_type": "code",
   "execution_count": 121,
   "metadata": {},
   "outputs": [],
   "source": [
    "import eli5\n",
    "from eli5.sklearn import PermutationImportance"
   ]
  },
  {
   "cell_type": "code",
   "execution_count": null,
   "metadata": {},
   "outputs": [],
   "source": []
  }
 ],
 "metadata": {
  "kernelspec": {
   "display_name": "Python 3",
   "language": "python",
   "name": "python3"
  },
  "language_info": {
   "codemirror_mode": {
    "name": "ipython",
    "version": 3
   },
   "file_extension": ".py",
   "mimetype": "text/x-python",
   "name": "python",
   "nbconvert_exporter": "python",
   "pygments_lexer": "ipython3",
   "version": "3.7.4"
  }
 },
 "nbformat": 4,
 "nbformat_minor": 2
}

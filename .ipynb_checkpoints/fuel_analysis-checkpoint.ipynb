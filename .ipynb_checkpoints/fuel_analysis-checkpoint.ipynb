{
 "cells": [
  {
   "cell_type": "markdown",
   "metadata": {},
   "source": [
    "## Tasks\n",
    "\n",
    "#### Done\n",
    "+ get the average mileage from the web\n",
    "\n",
    "+ show on a plot how the fuel price changed within time\n",
    "\n",
    "+ based on the cars spec features, predict its mpg\n",
    "\n",
    "+ which car is the most economic?\n",
    "\n",
    "#### Remaing\n",
    "\n",
    "- compute the average cost of 100 miles for each car - need to calculate first it from gallons\n",
    "\n",
    "- compute the yearly cost\n",
    "\n",
    "- predict the future prices\n"
   ]
  },
  {
   "cell_type": "code",
   "execution_count": 1,
   "metadata": {},
   "outputs": [],
   "source": [
    "import pandas as pd\n",
    "import matplotlib.pyplot as plt\n",
    "%matplotlib inline\n",
    "import sqlite3"
   ]
  },
  {
   "cell_type": "code",
   "execution_count": 2,
   "metadata": {},
   "outputs": [],
   "source": [
    "\n",
    "class Server():\n",
    "    def __init__(self, db_name):\n",
    "        try:\n",
    "            self.conn = sqlite3.connect(db_name)\n",
    "            self.c = self.conn.cursor()\n",
    "        except sqlite3.Error:\n",
    "            print('Error while connecting to database')\n",
    "\n",
    "    def execute(self, command):\n",
    "        self.c.execute(command)\n",
    "\n",
    "    def commit(self):\n",
    "        self.conn.commit()\n",
    "\n",
    "    def close(self):\n",
    "        self.conn.close()"
   ]
  },
  {
   "cell_type": "code",
   "execution_count": 3,
   "metadata": {},
   "outputs": [],
   "source": [
    "db = Server('database.db')"
   ]
  },
  {
   "cell_type": "code",
   "execution_count": 4,
   "metadata": {},
   "outputs": [
    {
     "data": {
      "text/html": [
       "<div>\n",
       "<style scoped>\n",
       "    .dataframe tbody tr th:only-of-type {\n",
       "        vertical-align: middle;\n",
       "    }\n",
       "\n",
       "    .dataframe tbody tr th {\n",
       "        vertical-align: top;\n",
       "    }\n",
       "\n",
       "    .dataframe thead th {\n",
       "        text-align: right;\n",
       "    }\n",
       "</style>\n",
       "<table border=\"1\" class=\"dataframe\">\n",
       "  <thead>\n",
       "    <tr style=\"text-align: right;\">\n",
       "      <th></th>\n",
       "      <th>mark_model</th>\n",
       "      <th>hp</th>\n",
       "      <th>weight</th>\n",
       "      <th>acc_time</th>\n",
       "      <th>range_miles</th>\n",
       "      <th>mpg</th>\n",
       "    </tr>\n",
       "  </thead>\n",
       "  <tbody>\n",
       "    <tr>\n",
       "      <th>0</th>\n",
       "      <td>chevrolet chevelle malibu</td>\n",
       "      <td>130</td>\n",
       "      <td>3504</td>\n",
       "      <td>12.0</td>\n",
       "      <td>307.0</td>\n",
       "      <td>18.0</td>\n",
       "    </tr>\n",
       "    <tr>\n",
       "      <th>1</th>\n",
       "      <td>buick skylark 320</td>\n",
       "      <td>165</td>\n",
       "      <td>3693</td>\n",
       "      <td>11.5</td>\n",
       "      <td>350.0</td>\n",
       "      <td>15.0</td>\n",
       "    </tr>\n",
       "    <tr>\n",
       "      <th>2</th>\n",
       "      <td>plymouth satellite</td>\n",
       "      <td>150</td>\n",
       "      <td>3436</td>\n",
       "      <td>11.0</td>\n",
       "      <td>318.0</td>\n",
       "      <td>18.0</td>\n",
       "    </tr>\n",
       "    <tr>\n",
       "      <th>3</th>\n",
       "      <td>amc rebel sst</td>\n",
       "      <td>150</td>\n",
       "      <td>3433</td>\n",
       "      <td>12.0</td>\n",
       "      <td>304.0</td>\n",
       "      <td>16.0</td>\n",
       "    </tr>\n",
       "    <tr>\n",
       "      <th>4</th>\n",
       "      <td>ford torino</td>\n",
       "      <td>140</td>\n",
       "      <td>3449</td>\n",
       "      <td>10.5</td>\n",
       "      <td>302.0</td>\n",
       "      <td>17.0</td>\n",
       "    </tr>\n",
       "  </tbody>\n",
       "</table>\n",
       "</div>"
      ],
      "text/plain": [
       "                  mark_model   hp  weight  acc_time  range_miles   mpg\n",
       "0  chevrolet chevelle malibu  130    3504      12.0        307.0  18.0\n",
       "1          buick skylark 320  165    3693      11.5        350.0  15.0\n",
       "2         plymouth satellite  150    3436      11.0        318.0  18.0\n",
       "3              amc rebel sst  150    3433      12.0        304.0  16.0\n",
       "4                ford torino  140    3449      10.5        302.0  17.0"
      ]
     },
     "metadata": {},
     "output_type": "display_data"
    },
    {
     "data": {
      "text/html": [
       "<div>\n",
       "<style scoped>\n",
       "    .dataframe tbody tr th:only-of-type {\n",
       "        vertical-align: middle;\n",
       "    }\n",
       "\n",
       "    .dataframe tbody tr th {\n",
       "        vertical-align: top;\n",
       "    }\n",
       "\n",
       "    .dataframe thead th {\n",
       "        text-align: right;\n",
       "    }\n",
       "</style>\n",
       "<table border=\"1\" class=\"dataframe\">\n",
       "  <thead>\n",
       "    <tr style=\"text-align: right;\">\n",
       "      <th></th>\n",
       "      <th>price_gallon</th>\n",
       "    </tr>\n",
       "    <tr>\n",
       "      <th>DATE</th>\n",
       "      <th></th>\n",
       "    </tr>\n",
       "  </thead>\n",
       "  <tbody>\n",
       "    <tr>\n",
       "      <th>1990-08-31</th>\n",
       "      <td>1.2180</td>\n",
       "    </tr>\n",
       "    <tr>\n",
       "      <th>1990-09-30</th>\n",
       "      <td>1.2580</td>\n",
       "    </tr>\n",
       "    <tr>\n",
       "      <th>1990-10-31</th>\n",
       "      <td>1.3354</td>\n",
       "    </tr>\n",
       "    <tr>\n",
       "      <th>1990-11-30</th>\n",
       "      <td>1.3240</td>\n",
       "    </tr>\n",
       "    <tr>\n",
       "      <th>1990-12-31</th>\n",
       "      <td>1.3410</td>\n",
       "    </tr>\n",
       "  </tbody>\n",
       "</table>\n",
       "</div>"
      ],
      "text/plain": [
       "            price_gallon\n",
       "DATE                    \n",
       "1990-08-31        1.2180\n",
       "1990-09-30        1.2580\n",
       "1990-10-31        1.3354\n",
       "1990-11-30        1.3240\n",
       "1990-12-31        1.3410"
      ]
     },
     "metadata": {},
     "output_type": "display_data"
    }
   ],
   "source": [
    "cars = pd.read_sql_query(\"SELECT mark_model, hp, weight, acc_time, range_miles ,mpg FROM Cars JOIN Spec ON Cars.id = Spec.car_id WHERE origin='US'\", db.conn)\n",
    "fuel_prices = pd.read_sql_query(\"SELECT date, price_gallon FROM Prices WHERE region = 'US';\", db.conn, index_col='DATE')\n",
    "fuel_prices.index = pd.to_datetime(fuel_prices.index)\n",
    "\n",
    "\n",
    "display(cars.head())\n",
    "display(fuel_prices.head())"
   ]
  },
  {
   "cell_type": "code",
   "execution_count": 5,
   "metadata": {},
   "outputs": [
    {
     "data": {
      "text/html": [
       "<div>\n",
       "<style scoped>\n",
       "    .dataframe tbody tr th:only-of-type {\n",
       "        vertical-align: middle;\n",
       "    }\n",
       "\n",
       "    .dataframe tbody tr th {\n",
       "        vertical-align: top;\n",
       "    }\n",
       "\n",
       "    .dataframe thead th {\n",
       "        text-align: right;\n",
       "    }\n",
       "</style>\n",
       "<table border=\"1\" class=\"dataframe\">\n",
       "  <thead>\n",
       "    <tr style=\"text-align: right;\">\n",
       "      <th></th>\n",
       "      <th>1991</th>\n",
       "      <th>2000</th>\n",
       "      <th>2019</th>\n",
       "    </tr>\n",
       "    <tr>\n",
       "      <th>DATE</th>\n",
       "      <th></th>\n",
       "      <th></th>\n",
       "      <th></th>\n",
       "    </tr>\n",
       "  </thead>\n",
       "  <tbody>\n",
       "    <tr>\n",
       "      <th>31-01</th>\n",
       "      <td>1.26050</td>\n",
       "      <td>1.27880</td>\n",
       "      <td>2.14500</td>\n",
       "    </tr>\n",
       "    <tr>\n",
       "      <th>28-02</th>\n",
       "      <td>1.09425</td>\n",
       "      <td>1.37050</td>\n",
       "      <td>2.22250</td>\n",
       "    </tr>\n",
       "    <tr>\n",
       "      <th>31-03</th>\n",
       "      <td>1.04000</td>\n",
       "      <td>1.49825</td>\n",
       "      <td>2.44300</td>\n",
       "    </tr>\n",
       "    <tr>\n",
       "      <th>30-04</th>\n",
       "      <td>1.07620</td>\n",
       "      <td>1.43650</td>\n",
       "      <td>2.69400</td>\n",
       "    </tr>\n",
       "    <tr>\n",
       "      <th>31-05</th>\n",
       "      <td>1.12575</td>\n",
       "      <td>1.45640</td>\n",
       "      <td>2.73125</td>\n",
       "    </tr>\n",
       "    <tr>\n",
       "      <th>30-06</th>\n",
       "      <td>1.12825</td>\n",
       "      <td>1.61175</td>\n",
       "      <td>2.60125</td>\n",
       "    </tr>\n",
       "    <tr>\n",
       "      <th>31-07</th>\n",
       "      <td>1.09560</td>\n",
       "      <td>1.52880</td>\n",
       "      <td>2.64040</td>\n",
       "    </tr>\n",
       "    <tr>\n",
       "      <th>31-08</th>\n",
       "      <td>1.11475</td>\n",
       "      <td>1.43925</td>\n",
       "      <td>2.52100</td>\n",
       "    </tr>\n",
       "    <tr>\n",
       "      <th>30-09</th>\n",
       "      <td>1.10920</td>\n",
       "      <td>1.52525</td>\n",
       "      <td>2.48880</td>\n",
       "    </tr>\n",
       "    <tr>\n",
       "      <th>31-10</th>\n",
       "      <td>1.08800</td>\n",
       "      <td>1.50840</td>\n",
       "      <td>2.49725</td>\n",
       "    </tr>\n",
       "    <tr>\n",
       "      <th>30-11</th>\n",
       "      <td>1.09900</td>\n",
       "      <td>1.49475</td>\n",
       "      <td>2.48000</td>\n",
       "    </tr>\n",
       "    <tr>\n",
       "      <th>31-12</th>\n",
       "      <td>1.07620</td>\n",
       "      <td>1.41825</td>\n",
       "      <td>2.46920</td>\n",
       "    </tr>\n",
       "  </tbody>\n",
       "</table>\n",
       "</div>"
      ],
      "text/plain": [
       "          1991     2000     2019\n",
       "DATE                            \n",
       "31-01  1.26050  1.27880  2.14500\n",
       "28-02  1.09425  1.37050  2.22250\n",
       "31-03  1.04000  1.49825  2.44300\n",
       "30-04  1.07620  1.43650  2.69400\n",
       "31-05  1.12575  1.45640  2.73125\n",
       "30-06  1.12825  1.61175  2.60125\n",
       "31-07  1.09560  1.52880  2.64040\n",
       "31-08  1.11475  1.43925  2.52100\n",
       "30-09  1.10920  1.52525  2.48880\n",
       "31-10  1.08800  1.50840  2.49725\n",
       "30-11  1.09900  1.49475  2.48000\n",
       "31-12  1.07620  1.41825  2.46920"
      ]
     },
     "execution_count": 5,
     "metadata": {},
     "output_type": "execute_result"
    }
   ],
   "source": [
    "yr_91 = fuel_prices.loc['1991', 'price_gallon'].values\n",
    "yr_00 = fuel_prices.loc['2000', 'price_gallon'].values\n",
    "yr_19 = fuel_prices.loc['2019', 'price_gallon'].values\n",
    "chg_idx = fuel_prices.loc['1991', 'price_gallon'].index.strftime('%d-%m')\n",
    "\n",
    "chg = pd.DataFrame({'1991': yr_91,'2000':yr_00 ,'2019':yr_19}, index=chg_idx)\n",
    "chg"
   ]
  },
  {
   "cell_type": "code",
   "execution_count": 6,
   "metadata": {},
   "outputs": [
    {
     "data": {
      "image/png": "[encoded data removed]",
      "text/plain": [
       "<Figure size 432x288 with 1 Axes>"
      ]
     },
     "metadata": {
      "needs_background": "light"
     },
     "output_type": "display_data"
    }
   ],
   "source": [
    "chg.plot()\n",
    "plt.xlabel('Date')\n",
    "plt.ylabel('Gallon price [$]')\n",
    "plt.legend\n",
    "plt.show()"
   ]
  },
  {
   "cell_type": "code",
   "execution_count": 7,
   "metadata": {},
   "outputs": [
    {
     "name": "stdout",
     "output_type": "stream",
     "text": [
      "DATE\n",
      "31-01    0.88450\n",
      "28-02    1.12825\n",
      "31-03    1.40300\n",
      "30-04    1.61780\n",
      "31-05    1.60550\n",
      "30-06    1.47300\n",
      "31-07    1.54480\n",
      "31-08    1.40625\n",
      "30-09    1.37960\n",
      "31-10    1.40925\n",
      "30-11    1.38100\n",
      "31-12    1.39300\n",
      "dtype: float64\n"
     ]
    }
   ],
   "source": [
    "# Change in the fuel price\n",
    "print(chg['2019'] - chg['1991'])"
   ]
  },
  {
   "cell_type": "code",
   "execution_count": 8,
   "metadata": {},
   "outputs": [
    {
     "data": {
      "text/html": [
       "<div>\n",
       "<style scoped>\n",
       "    .dataframe tbody tr th:only-of-type {\n",
       "        vertical-align: middle;\n",
       "    }\n",
       "\n",
       "    .dataframe tbody tr th {\n",
       "        vertical-align: top;\n",
       "    }\n",
       "\n",
       "    .dataframe thead th {\n",
       "        text-align: right;\n",
       "    }\n",
       "</style>\n",
       "<table border=\"1\" class=\"dataframe\">\n",
       "  <thead>\n",
       "    <tr style=\"text-align: right;\">\n",
       "      <th></th>\n",
       "      <th>price_gallon</th>\n",
       "    </tr>\n",
       "    <tr>\n",
       "      <th>DATE</th>\n",
       "      <th></th>\n",
       "    </tr>\n",
       "  </thead>\n",
       "  <tbody>\n",
       "    <tr>\n",
       "      <th>1990-12-31</th>\n",
       "      <td>NaN</td>\n",
       "    </tr>\n",
       "    <tr>\n",
       "      <th>1991-12-31</th>\n",
       "      <td>-19.746458</td>\n",
       "    </tr>\n",
       "    <tr>\n",
       "      <th>1992-12-31</th>\n",
       "      <td>0.120795</td>\n",
       "    </tr>\n",
       "    <tr>\n",
       "      <th>1993-12-31</th>\n",
       "      <td>-5.893271</td>\n",
       "    </tr>\n",
       "    <tr>\n",
       "      <th>1994-12-31</th>\n",
       "      <td>4.511834</td>\n",
       "    </tr>\n",
       "    <tr>\n",
       "      <th>1995-12-31</th>\n",
       "      <td>0.542581</td>\n",
       "    </tr>\n",
       "    <tr>\n",
       "      <th>1996-12-31</th>\n",
       "      <td>15.757860</td>\n",
       "    </tr>\n",
       "    <tr>\n",
       "      <th>1997-12-31</th>\n",
       "      <td>-9.307605</td>\n",
       "    </tr>\n",
       "    <tr>\n",
       "      <th>1998-12-31</th>\n",
       "      <td>-17.508493</td>\n",
       "    </tr>\n",
       "    <tr>\n",
       "      <th>1999-12-31</th>\n",
       "      <td>36.629640</td>\n",
       "    </tr>\n",
       "    <tr>\n",
       "      <th>2000-12-31</th>\n",
       "      <td>12.492564</td>\n",
       "    </tr>\n",
       "    <tr>\n",
       "      <th>2001-12-31</th>\n",
       "      <td>-24.413890</td>\n",
       "    </tr>\n",
       "    <tr>\n",
       "      <th>2002-12-31</th>\n",
       "      <td>25.783582</td>\n",
       "    </tr>\n",
       "    <tr>\n",
       "      <th>2003-12-31</th>\n",
       "      <td>7.401365</td>\n",
       "    </tr>\n",
       "    <tr>\n",
       "      <th>2004-12-31</th>\n",
       "      <td>24.257699</td>\n",
       "    </tr>\n",
       "    <tr>\n",
       "      <th>2005-12-31</th>\n",
       "      <td>20.797444</td>\n",
       "    </tr>\n",
       "    <tr>\n",
       "      <th>2006-12-31</th>\n",
       "      <td>5.083381</td>\n",
       "    </tr>\n",
       "    <tr>\n",
       "      <th>2007-12-31</th>\n",
       "      <td>30.624932</td>\n",
       "    </tr>\n",
       "    <tr>\n",
       "      <th>2008-12-31</th>\n",
       "      <td>-44.071318</td>\n",
       "    </tr>\n",
       "    <tr>\n",
       "      <th>2009-12-31</th>\n",
       "      <td>53.868049</td>\n",
       "    </tr>\n",
       "    <tr>\n",
       "      <th>2010-12-31</th>\n",
       "      <td>14.915782</td>\n",
       "    </tr>\n",
       "    <tr>\n",
       "      <th>2011-12-31</th>\n",
       "      <td>9.124799</td>\n",
       "    </tr>\n",
       "    <tr>\n",
       "      <th>2012-12-31</th>\n",
       "      <td>1.130435</td>\n",
       "    </tr>\n",
       "    <tr>\n",
       "      <th>2013-12-31</th>\n",
       "      <td>-1.461737</td>\n",
       "    </tr>\n",
       "    <tr>\n",
       "      <th>2014-12-31</th>\n",
       "      <td>-22.456993</td>\n",
       "    </tr>\n",
       "    <tr>\n",
       "      <th>2015-12-31</th>\n",
       "      <td>-21.790853</td>\n",
       "    </tr>\n",
       "    <tr>\n",
       "      <th>2016-12-31</th>\n",
       "      <td>12.641316</td>\n",
       "    </tr>\n",
       "    <tr>\n",
       "      <th>2017-12-31</th>\n",
       "      <td>8.953011</td>\n",
       "    </tr>\n",
       "    <tr>\n",
       "      <th>2018-12-31</th>\n",
       "      <td>-5.244426</td>\n",
       "    </tr>\n",
       "    <tr>\n",
       "      <th>2019-12-31</th>\n",
       "      <td>9.111798</td>\n",
       "    </tr>\n",
       "    <tr>\n",
       "      <th>2020-12-31</th>\n",
       "      <td>-5.880447</td>\n",
       "    </tr>\n",
       "  </tbody>\n",
       "</table>\n",
       "</div>"
      ],
      "text/plain": [
       "            price_gallon\n",
       "DATE                    \n",
       "1990-12-31           NaN\n",
       "1991-12-31    -19.746458\n",
       "1992-12-31      0.120795\n",
       "1993-12-31     -5.893271\n",
       "1994-12-31      4.511834\n",
       "1995-12-31      0.542581\n",
       "1996-12-31     15.757860\n",
       "1997-12-31     -9.307605\n",
       "1998-12-31    -17.508493\n",
       "1999-12-31     36.629640\n",
       "2000-12-31     12.492564\n",
       "2001-12-31    -24.413890\n",
       "2002-12-31     25.783582\n",
       "2003-12-31      7.401365\n",
       "2004-12-31     24.257699\n",
       "2005-12-31     20.797444\n",
       "2006-12-31      5.083381\n",
       "2007-12-31     30.624932\n",
       "2008-12-31    -44.071318\n",
       "2009-12-31     53.868049\n",
       "2010-12-31     14.915782\n",
       "2011-12-31      9.124799\n",
       "2012-12-31      1.130435\n",
       "2013-12-31     -1.461737\n",
       "2014-12-31    -22.456993\n",
       "2015-12-31    -21.790853\n",
       "2016-12-31     12.641316\n",
       "2017-12-31      8.953011\n",
       "2018-12-31     -5.244426\n",
       "2019-12-31      9.111798\n",
       "2020-12-31     -5.880447"
      ]
     },
     "execution_count": 8,
     "metadata": {},
     "output_type": "execute_result"
    }
   ],
   "source": [
    "# Calculating the yearly percentage change\n",
    "yearly_change = fuel_prices.resample('A').last().pct_change() * 100\n",
    "yearly_change"
   ]
  },
  {
   "cell_type": "markdown",
   "metadata": {},
   "source": [
    "## Plotting the yearly price fluctuations"
   ]
  },
  {
   "cell_type": "code",
   "execution_count": 9,
   "metadata": {},
   "outputs": [
    {
     "data": {
      "text/plain": [
       "Text(0.5, 0, 'Year')"
      ]
     },
     "execution_count": 9,
     "metadata": {},
     "output_type": "execute_result"
    },
    {
     "data": {
      "image/png": "[encoded data removed]",
      "text/plain": [
       "<Figure size 432x288 with 1 Axes>"
      ]
     },
     "metadata": {
      "needs_background": "light"
     },
     "output_type": "display_data"
    }
   ],
   "source": [
    "yearly_change.plot()\n",
    "\n",
    "plt.title('Percentage price fluctuations')\n",
    "plt.ylabel('Pct price change')\n",
    "plt.xlabel('Year')"
   ]
  },
  {
   "cell_type": "markdown",
   "metadata": {},
   "source": [
    "## Plotting the fuel price change over the last 20 years"
   ]
  },
  {
   "cell_type": "code",
   "execution_count": 10,
   "metadata": {
    "scrolled": true
   },
   "outputs": [
    {
     "data": {
      "image/png": "[encoded data removed]",
      "text/plain": [
       "<Figure size 432x288 with 1 Axes>"
      ]
     },
     "metadata": {
      "needs_background": "light"
     },
     "output_type": "display_data"
    }
   ],
   "source": [
    "fuel_prices.plot()\n",
    "plt.title('Fuel price change [$]')\n",
    "plt.xlabel('Date')\n",
    "plt.ylabel('Price per gallon')\n",
    "plt.xticks(rotation=0)\n",
    "plt.show()"
   ]
  },
  {
   "cell_type": "markdown",
   "metadata": {},
   "source": [
    "## Getting the average mileage per year"
   ]
  },
  {
   "cell_type": "code",
   "execution_count": 11,
   "metadata": {},
   "outputs": [
    {
     "name": "stdout",
     "output_type": "stream",
     "text": [
      "Requirement already satisfied: selenium in c:\\users\\jtkubi\\anaconda3\\lib\\site-packages (3.141.0)\n",
      "Requirement already satisfied: urllib3 in c:\\users\\jtkubi\\anaconda3\\lib\\site-packages (from selenium) (1.25.8)\n"
     ]
    }
   ],
   "source": [
    "!pip install selenium"
   ]
  },
  {
   "cell_type": "code",
   "execution_count": 12,
   "metadata": {},
   "outputs": [
    {
     "data": {
      "text/plain": [
       "13476.0"
      ]
     },
     "execution_count": 12,
     "metadata": {},
     "output_type": "execute_result"
    }
   ],
   "source": [
    "from selenium import webdriver\n",
    "\n",
    "driver = webdriver.Chrome()\n",
    "\n",
    "driver.get('https://www.google.com/search?q=average+mileage+per+year&oq=average+mile&aqs=chrome.1.69i57j69i59.3633j0j7&sourceid=chrome&ie=UTF-8')\n",
    "avg_mileage = driver.find_element_by_xpath('//*[@id=\"rso\"]/div[1]/div[1]/div/div[1]/div/div[1]/div/div[1]').text.split()[0]\n",
    "\n",
    "driver.close()\n",
    "\n",
    "avg_mileage = float(avg_mileage.replace(',', ''))\n",
    "avg_mileage"
   ]
  },
  {
   "cell_type": "code",
   "execution_count": 13,
   "metadata": {},
   "outputs": [
    {
     "data": {
      "text/html": [
       "<div>\n",
       "<style scoped>\n",
       "    .dataframe tbody tr th:only-of-type {\n",
       "        vertical-align: middle;\n",
       "    }\n",
       "\n",
       "    .dataframe tbody tr th {\n",
       "        vertical-align: top;\n",
       "    }\n",
       "\n",
       "    .dataframe thead th {\n",
       "        text-align: right;\n",
       "    }\n",
       "</style>\n",
       "<table border=\"1\" class=\"dataframe\">\n",
       "  <thead>\n",
       "    <tr style=\"text-align: right;\">\n",
       "      <th></th>\n",
       "      <th>mark_model</th>\n",
       "      <th>hp</th>\n",
       "      <th>weight</th>\n",
       "      <th>acc_time</th>\n",
       "      <th>range_miles</th>\n",
       "      <th>mpg</th>\n",
       "    </tr>\n",
       "  </thead>\n",
       "  <tbody>\n",
       "    <tr>\n",
       "      <th>0</th>\n",
       "      <td>chevrolet chevelle malibu</td>\n",
       "      <td>130</td>\n",
       "      <td>3504</td>\n",
       "      <td>12.0</td>\n",
       "      <td>307.0</td>\n",
       "      <td>18.0</td>\n",
       "    </tr>\n",
       "    <tr>\n",
       "      <th>1</th>\n",
       "      <td>buick skylark 320</td>\n",
       "      <td>165</td>\n",
       "      <td>3693</td>\n",
       "      <td>11.5</td>\n",
       "      <td>350.0</td>\n",
       "      <td>15.0</td>\n",
       "    </tr>\n",
       "    <tr>\n",
       "      <th>2</th>\n",
       "      <td>plymouth satellite</td>\n",
       "      <td>150</td>\n",
       "      <td>3436</td>\n",
       "      <td>11.0</td>\n",
       "      <td>318.0</td>\n",
       "      <td>18.0</td>\n",
       "    </tr>\n",
       "    <tr>\n",
       "      <th>3</th>\n",
       "      <td>amc rebel sst</td>\n",
       "      <td>150</td>\n",
       "      <td>3433</td>\n",
       "      <td>12.0</td>\n",
       "      <td>304.0</td>\n",
       "      <td>16.0</td>\n",
       "    </tr>\n",
       "    <tr>\n",
       "      <th>4</th>\n",
       "      <td>ford torino</td>\n",
       "      <td>140</td>\n",
       "      <td>3449</td>\n",
       "      <td>10.5</td>\n",
       "      <td>302.0</td>\n",
       "      <td>17.0</td>\n",
       "    </tr>\n",
       "    <tr>\n",
       "      <th>...</th>\n",
       "      <td>...</td>\n",
       "      <td>...</td>\n",
       "      <td>...</td>\n",
       "      <td>...</td>\n",
       "      <td>...</td>\n",
       "      <td>...</td>\n",
       "    </tr>\n",
       "    <tr>\n",
       "      <th>180</th>\n",
       "      <td>chevrolet camaro</td>\n",
       "      <td>90</td>\n",
       "      <td>2950</td>\n",
       "      <td>17.3</td>\n",
       "      <td>151.0</td>\n",
       "      <td>27.0</td>\n",
       "    </tr>\n",
       "    <tr>\n",
       "      <th>181</th>\n",
       "      <td>ford mustang gl</td>\n",
       "      <td>86</td>\n",
       "      <td>2790</td>\n",
       "      <td>15.6</td>\n",
       "      <td>140.0</td>\n",
       "      <td>27.0</td>\n",
       "    </tr>\n",
       "    <tr>\n",
       "      <th>182</th>\n",
       "      <td>dodge rampage</td>\n",
       "      <td>84</td>\n",
       "      <td>2295</td>\n",
       "      <td>11.6</td>\n",
       "      <td>135.0</td>\n",
       "      <td>32.0</td>\n",
       "    </tr>\n",
       "    <tr>\n",
       "      <th>183</th>\n",
       "      <td>ford ranger</td>\n",
       "      <td>79</td>\n",
       "      <td>2625</td>\n",
       "      <td>18.6</td>\n",
       "      <td>120.0</td>\n",
       "      <td>28.0</td>\n",
       "    </tr>\n",
       "    <tr>\n",
       "      <th>184</th>\n",
       "      <td>chevy s-10</td>\n",
       "      <td>82</td>\n",
       "      <td>2720</td>\n",
       "      <td>19.4</td>\n",
       "      <td>119.0</td>\n",
       "      <td>31.0</td>\n",
       "    </tr>\n",
       "  </tbody>\n",
       "</table>\n",
       "<p>185 rows × 6 columns</p>\n",
       "</div>"
      ],
      "text/plain": [
       "                    mark_model   hp  weight  acc_time  range_miles   mpg\n",
       "0    chevrolet chevelle malibu  130    3504      12.0        307.0  18.0\n",
       "1            buick skylark 320  165    3693      11.5        350.0  15.0\n",
       "2           plymouth satellite  150    3436      11.0        318.0  18.0\n",
       "3                amc rebel sst  150    3433      12.0        304.0  16.0\n",
       "4                  ford torino  140    3449      10.5        302.0  17.0\n",
       "..                         ...  ...     ...       ...          ...   ...\n",
       "180           chevrolet camaro   90    2950      17.3        151.0  27.0\n",
       "181            ford mustang gl   86    2790      15.6        140.0  27.0\n",
       "182              dodge rampage   84    2295      11.6        135.0  32.0\n",
       "183                ford ranger   79    2625      18.6        120.0  28.0\n",
       "184                 chevy s-10   82    2720      19.4        119.0  31.0\n",
       "\n",
       "[185 rows x 6 columns]"
      ]
     },
     "metadata": {},
     "output_type": "display_data"
    }
   ],
   "source": [
    "display(cars)"
   ]
  },
  {
   "cell_type": "code",
   "execution_count": 14,
   "metadata": {},
   "outputs": [
    {
     "data": {
      "text/plain": [
       "array([[<matplotlib.axes._subplots.AxesSubplot object at 0x0000026B50193E10>,\n",
       "        <matplotlib.axes._subplots.AxesSubplot object at 0x0000026B50343F28>],\n",
       "       [<matplotlib.axes._subplots.AxesSubplot object at 0x0000026B5037F358>,\n",
       "        <matplotlib.axes._subplots.AxesSubplot object at 0x0000026B503AF908>],\n",
       "       [<matplotlib.axes._subplots.AxesSubplot object at 0x0000026B503E1EB8>,\n",
       "        <matplotlib.axes._subplots.AxesSubplot object at 0x0000026B5041F4A8>]],\n",
       "      dtype=object)"
      ]
     },
     "execution_count": 14,
     "metadata": {},
     "output_type": "execute_result"
    },
    {
     "data": {
      "image/png": "[encoded data removed]",
      "text/plain": [
       "<Figure size 864x576 with 6 Axes>"
      ]
     },
     "metadata": {
      "needs_background": "light"
     },
     "output_type": "display_data"
    }
   ],
   "source": [
    "cars.hist(bins=50, figsize=(12, 8), color='g')"
   ]
  },
  {
   "cell_type": "markdown",
   "metadata": {},
   "source": [
    "## 20 Most economic cars"
   ]
  },
  {
   "cell_type": "code",
   "execution_count": 15,
   "metadata": {
    "scrolled": true
   },
   "outputs": [
    {
     "data": {
      "text/plain": [
       "(array([ 0,  1,  2,  3,  4,  5,  6,  7,  8,  9, 10, 11, 12, 13, 14, 15, 16,\n",
       "        17, 18, 19]),\n",
       " <a list of 20 Text xticklabel objects>)"
      ]
     },
     "execution_count": 15,
     "metadata": {},
     "output_type": "execute_result"
    },
    {
     "data": {
      "image/png": "[encoded data removed]",
      "text/plain": [
       "<Figure size 864x360 with 1 Axes>"
      ]
     },
     "metadata": {
      "needs_background": "light"
     },
     "output_type": "display_data"
    }
   ],
   "source": [
    "mpg_sorted = cars.sort_values(by='mpg', ascending=False)\n",
    "\n",
    "mpg_sorted[:20].plot(kind='bar', x='mark_model', y='mpg', figsize=(12, 5), color='orange')\n",
    "plt.title('20 most economic cars', size=7)\n",
    "plt.ylabel('Miles per gallon')\n",
    "plt.xticks(size=10)"
   ]
  },
  {
   "cell_type": "markdown",
   "metadata": {},
   "source": [
    "## Yearly cost for each car"
   ]
  },
  {
   "cell_type": "markdown",
   "metadata": {},
   "source": [
    "### Computation description"
   ]
  },
  {
   "cell_type": "raw",
   "metadata": {},
   "source": [
    "average yearly mileage divided by range miles gives the number of refuelings\n",
    "\n",
    "range miles divided by miles per gallon gives the capacity of the fuel tank\n",
    "\n",
    "gallons bought this year = number of refueling * capacity\n",
    "\n",
    "gallons bought each month = gallons bought this year / 12\n",
    "\n",
    "monthly expenses for each car = gallons bought each month * monthly average fuel price\n",
    "\n",
    "new column of the df with monthly expenses for each car"
   ]
  },
  {
   "cell_type": "markdown",
   "metadata": {},
   "source": [
    "### Calculations"
   ]
  },
  {
   "cell_type": "code",
   "execution_count": 16,
   "metadata": {},
   "outputs": [
    {
     "data": {
      "text/html": [
       "<div>\n",
       "<style scoped>\n",
       "    .dataframe tbody tr th:only-of-type {\n",
       "        vertical-align: middle;\n",
       "    }\n",
       "\n",
       "    .dataframe tbody tr th {\n",
       "        vertical-align: top;\n",
       "    }\n",
       "\n",
       "    .dataframe thead th {\n",
       "        text-align: right;\n",
       "    }\n",
       "</style>\n",
       "<table border=\"1\" class=\"dataframe\">\n",
       "  <thead>\n",
       "    <tr style=\"text-align: right;\">\n",
       "      <th></th>\n",
       "      <th>mark_model</th>\n",
       "      <th>hp</th>\n",
       "      <th>weight</th>\n",
       "      <th>acc_time</th>\n",
       "      <th>range_miles</th>\n",
       "      <th>mpg</th>\n",
       "    </tr>\n",
       "  </thead>\n",
       "  <tbody>\n",
       "    <tr>\n",
       "      <th>0</th>\n",
       "      <td>chevrolet chevelle malibu</td>\n",
       "      <td>130</td>\n",
       "      <td>3504</td>\n",
       "      <td>12.0</td>\n",
       "      <td>307.0</td>\n",
       "      <td>18.0</td>\n",
       "    </tr>\n",
       "    <tr>\n",
       "      <th>1</th>\n",
       "      <td>buick skylark 320</td>\n",
       "      <td>165</td>\n",
       "      <td>3693</td>\n",
       "      <td>11.5</td>\n",
       "      <td>350.0</td>\n",
       "      <td>15.0</td>\n",
       "    </tr>\n",
       "    <tr>\n",
       "      <th>2</th>\n",
       "      <td>plymouth satellite</td>\n",
       "      <td>150</td>\n",
       "      <td>3436</td>\n",
       "      <td>11.0</td>\n",
       "      <td>318.0</td>\n",
       "      <td>18.0</td>\n",
       "    </tr>\n",
       "    <tr>\n",
       "      <th>3</th>\n",
       "      <td>amc rebel sst</td>\n",
       "      <td>150</td>\n",
       "      <td>3433</td>\n",
       "      <td>12.0</td>\n",
       "      <td>304.0</td>\n",
       "      <td>16.0</td>\n",
       "    </tr>\n",
       "    <tr>\n",
       "      <th>4</th>\n",
       "      <td>ford torino</td>\n",
       "      <td>140</td>\n",
       "      <td>3449</td>\n",
       "      <td>10.5</td>\n",
       "      <td>302.0</td>\n",
       "      <td>17.0</td>\n",
       "    </tr>\n",
       "    <tr>\n",
       "      <th>...</th>\n",
       "      <td>...</td>\n",
       "      <td>...</td>\n",
       "      <td>...</td>\n",
       "      <td>...</td>\n",
       "      <td>...</td>\n",
       "      <td>...</td>\n",
       "    </tr>\n",
       "    <tr>\n",
       "      <th>180</th>\n",
       "      <td>chevrolet camaro</td>\n",
       "      <td>90</td>\n",
       "      <td>2950</td>\n",
       "      <td>17.3</td>\n",
       "      <td>151.0</td>\n",
       "      <td>27.0</td>\n",
       "    </tr>\n",
       "    <tr>\n",
       "      <th>181</th>\n",
       "      <td>ford mustang gl</td>\n",
       "      <td>86</td>\n",
       "      <td>2790</td>\n",
       "      <td>15.6</td>\n",
       "      <td>140.0</td>\n",
       "      <td>27.0</td>\n",
       "    </tr>\n",
       "    <tr>\n",
       "      <th>182</th>\n",
       "      <td>dodge rampage</td>\n",
       "      <td>84</td>\n",
       "      <td>2295</td>\n",
       "      <td>11.6</td>\n",
       "      <td>135.0</td>\n",
       "      <td>32.0</td>\n",
       "    </tr>\n",
       "    <tr>\n",
       "      <th>183</th>\n",
       "      <td>ford ranger</td>\n",
       "      <td>79</td>\n",
       "      <td>2625</td>\n",
       "      <td>18.6</td>\n",
       "      <td>120.0</td>\n",
       "      <td>28.0</td>\n",
       "    </tr>\n",
       "    <tr>\n",
       "      <th>184</th>\n",
       "      <td>chevy s-10</td>\n",
       "      <td>82</td>\n",
       "      <td>2720</td>\n",
       "      <td>19.4</td>\n",
       "      <td>119.0</td>\n",
       "      <td>31.0</td>\n",
       "    </tr>\n",
       "  </tbody>\n",
       "</table>\n",
       "<p>185 rows × 6 columns</p>\n",
       "</div>"
      ],
      "text/plain": [
       "                    mark_model   hp  weight  acc_time  range_miles   mpg\n",
       "0    chevrolet chevelle malibu  130    3504      12.0        307.0  18.0\n",
       "1            buick skylark 320  165    3693      11.5        350.0  15.0\n",
       "2           plymouth satellite  150    3436      11.0        318.0  18.0\n",
       "3                amc rebel sst  150    3433      12.0        304.0  16.0\n",
       "4                  ford torino  140    3449      10.5        302.0  17.0\n",
       "..                         ...  ...     ...       ...          ...   ...\n",
       "180           chevrolet camaro   90    2950      17.3        151.0  27.0\n",
       "181            ford mustang gl   86    2790      15.6        140.0  27.0\n",
       "182              dodge rampage   84    2295      11.6        135.0  32.0\n",
       "183                ford ranger   79    2625      18.6        120.0  28.0\n",
       "184                 chevy s-10   82    2720      19.4        119.0  31.0\n",
       "\n",
       "[185 rows x 6 columns]"
      ]
     },
     "execution_count": 16,
     "metadata": {},
     "output_type": "execute_result"
    }
   ],
   "source": [
    "cars_calculations = cars.copy()\n",
    "cars_calculations"
   ]
  },
  {
   "cell_type": "markdown",
   "metadata": {},
   "source": [
    "#### Calculating the yearly refuelings and the fuel tank capacity for each car"
   ]
  },
  {
   "cell_type": "code",
   "execution_count": 17,
   "metadata": {},
   "outputs": [
    {
     "data": {
      "text/html": [
       "<div>\n",
       "<style scoped>\n",
       "    .dataframe tbody tr th:only-of-type {\n",
       "        vertical-align: middle;\n",
       "    }\n",
       "\n",
       "    .dataframe tbody tr th {\n",
       "        vertical-align: top;\n",
       "    }\n",
       "\n",
       "    .dataframe thead th {\n",
       "        text-align: right;\n",
       "    }\n",
       "</style>\n",
       "<table border=\"1\" class=\"dataframe\">\n",
       "  <thead>\n",
       "    <tr style=\"text-align: right;\">\n",
       "      <th></th>\n",
       "      <th>mark_model</th>\n",
       "      <th>hp</th>\n",
       "      <th>weight</th>\n",
       "      <th>acc_time</th>\n",
       "      <th>range_miles</th>\n",
       "      <th>mpg</th>\n",
       "      <th>yearly_refuelings</th>\n",
       "      <th>fuel_tank_capacity</th>\n",
       "      <th>gallons_each_year</th>\n",
       "    </tr>\n",
       "  </thead>\n",
       "  <tbody>\n",
       "    <tr>\n",
       "      <th>0</th>\n",
       "      <td>chevrolet chevelle malibu</td>\n",
       "      <td>130</td>\n",
       "      <td>3504</td>\n",
       "      <td>12.0</td>\n",
       "      <td>307.0</td>\n",
       "      <td>18.0</td>\n",
       "      <td>44.0</td>\n",
       "      <td>17.055556</td>\n",
       "      <td>750.444444</td>\n",
       "    </tr>\n",
       "    <tr>\n",
       "      <th>1</th>\n",
       "      <td>buick skylark 320</td>\n",
       "      <td>165</td>\n",
       "      <td>3693</td>\n",
       "      <td>11.5</td>\n",
       "      <td>350.0</td>\n",
       "      <td>15.0</td>\n",
       "      <td>39.0</td>\n",
       "      <td>23.333333</td>\n",
       "      <td>910.000000</td>\n",
       "    </tr>\n",
       "    <tr>\n",
       "      <th>2</th>\n",
       "      <td>plymouth satellite</td>\n",
       "      <td>150</td>\n",
       "      <td>3436</td>\n",
       "      <td>11.0</td>\n",
       "      <td>318.0</td>\n",
       "      <td>18.0</td>\n",
       "      <td>42.0</td>\n",
       "      <td>17.666667</td>\n",
       "      <td>742.000000</td>\n",
       "    </tr>\n",
       "    <tr>\n",
       "      <th>3</th>\n",
       "      <td>amc rebel sst</td>\n",
       "      <td>150</td>\n",
       "      <td>3433</td>\n",
       "      <td>12.0</td>\n",
       "      <td>304.0</td>\n",
       "      <td>16.0</td>\n",
       "      <td>44.0</td>\n",
       "      <td>19.000000</td>\n",
       "      <td>836.000000</td>\n",
       "    </tr>\n",
       "    <tr>\n",
       "      <th>4</th>\n",
       "      <td>ford torino</td>\n",
       "      <td>140</td>\n",
       "      <td>3449</td>\n",
       "      <td>10.5</td>\n",
       "      <td>302.0</td>\n",
       "      <td>17.0</td>\n",
       "      <td>45.0</td>\n",
       "      <td>17.764706</td>\n",
       "      <td>799.411765</td>\n",
       "    </tr>\n",
       "    <tr>\n",
       "      <th>...</th>\n",
       "      <td>...</td>\n",
       "      <td>...</td>\n",
       "      <td>...</td>\n",
       "      <td>...</td>\n",
       "      <td>...</td>\n",
       "      <td>...</td>\n",
       "      <td>...</td>\n",
       "      <td>...</td>\n",
       "      <td>...</td>\n",
       "    </tr>\n",
       "    <tr>\n",
       "      <th>180</th>\n",
       "      <td>chevrolet camaro</td>\n",
       "      <td>90</td>\n",
       "      <td>2950</td>\n",
       "      <td>17.3</td>\n",
       "      <td>151.0</td>\n",
       "      <td>27.0</td>\n",
       "      <td>89.0</td>\n",
       "      <td>5.592593</td>\n",
       "      <td>497.740741</td>\n",
       "    </tr>\n",
       "    <tr>\n",
       "      <th>181</th>\n",
       "      <td>ford mustang gl</td>\n",
       "      <td>86</td>\n",
       "      <td>2790</td>\n",
       "      <td>15.6</td>\n",
       "      <td>140.0</td>\n",
       "      <td>27.0</td>\n",
       "      <td>96.0</td>\n",
       "      <td>5.185185</td>\n",
       "      <td>497.777778</td>\n",
       "    </tr>\n",
       "    <tr>\n",
       "      <th>182</th>\n",
       "      <td>dodge rampage</td>\n",
       "      <td>84</td>\n",
       "      <td>2295</td>\n",
       "      <td>11.6</td>\n",
       "      <td>135.0</td>\n",
       "      <td>32.0</td>\n",
       "      <td>100.0</td>\n",
       "      <td>4.218750</td>\n",
       "      <td>421.875000</td>\n",
       "    </tr>\n",
       "    <tr>\n",
       "      <th>183</th>\n",
       "      <td>ford ranger</td>\n",
       "      <td>79</td>\n",
       "      <td>2625</td>\n",
       "      <td>18.6</td>\n",
       "      <td>120.0</td>\n",
       "      <td>28.0</td>\n",
       "      <td>112.0</td>\n",
       "      <td>4.285714</td>\n",
       "      <td>480.000000</td>\n",
       "    </tr>\n",
       "    <tr>\n",
       "      <th>184</th>\n",
       "      <td>chevy s-10</td>\n",
       "      <td>82</td>\n",
       "      <td>2720</td>\n",
       "      <td>19.4</td>\n",
       "      <td>119.0</td>\n",
       "      <td>31.0</td>\n",
       "      <td>113.0</td>\n",
       "      <td>3.838710</td>\n",
       "      <td>433.774194</td>\n",
       "    </tr>\n",
       "  </tbody>\n",
       "</table>\n",
       "<p>185 rows × 9 columns</p>\n",
       "</div>"
      ],
      "text/plain": [
       "                    mark_model   hp  weight  acc_time  range_miles   mpg  \\\n",
       "0    chevrolet chevelle malibu  130    3504      12.0        307.0  18.0   \n",
       "1            buick skylark 320  165    3693      11.5        350.0  15.0   \n",
       "2           plymouth satellite  150    3436      11.0        318.0  18.0   \n",
       "3                amc rebel sst  150    3433      12.0        304.0  16.0   \n",
       "4                  ford torino  140    3449      10.5        302.0  17.0   \n",
       "..                         ...  ...     ...       ...          ...   ...   \n",
       "180           chevrolet camaro   90    2950      17.3        151.0  27.0   \n",
       "181            ford mustang gl   86    2790      15.6        140.0  27.0   \n",
       "182              dodge rampage   84    2295      11.6        135.0  32.0   \n",
       "183                ford ranger   79    2625      18.6        120.0  28.0   \n",
       "184                 chevy s-10   82    2720      19.4        119.0  31.0   \n",
       "\n",
       "     yearly_refuelings  fuel_tank_capacity  gallons_each_year  \n",
       "0                 44.0           17.055556         750.444444  \n",
       "1                 39.0           23.333333         910.000000  \n",
       "2                 42.0           17.666667         742.000000  \n",
       "3                 44.0           19.000000         836.000000  \n",
       "4                 45.0           17.764706         799.411765  \n",
       "..                 ...                 ...                ...  \n",
       "180               89.0            5.592593         497.740741  \n",
       "181               96.0            5.185185         497.777778  \n",
       "182              100.0            4.218750         421.875000  \n",
       "183              112.0            4.285714         480.000000  \n",
       "184              113.0            3.838710         433.774194  \n",
       "\n",
       "[185 rows x 9 columns]"
      ]
     },
     "execution_count": 17,
     "metadata": {},
     "output_type": "execute_result"
    }
   ],
   "source": [
    "cars_calculations['yearly_refuelings'] = (avg_mileage / cars_calculations['range_miles']).round()\n",
    "cars_calculations['fuel_tank_capacity'] = cars_calculations['range_miles'] / cars_calculations['mpg']\n",
    "cars_calculations['gallons_each_year'] = cars_calculations['fuel_tank_capacity'] * cars_calculations['yearly_refuelings']\n",
    "\n",
    "cars_calculations"
   ]
  },
  {
   "cell_type": "code",
   "execution_count": 18,
   "metadata": {},
   "outputs": [],
   "source": [
    "# yearly_prices = fuel_prices.resample('A').mean()\n",
    "# yearly_index = yearly_prices.index.strftime('%Y')\n",
    "# yearly_index\n",
    "\n",
    "# yearly_prices[['gallons_each_year', 'fuel_tank_capacity']] = cars_calculations[['gallons_each_year', 'fuel_tank_capacity']]\n",
    "\n",
    "\n",
    "# chg_idx = fuel_prices.loc['1991', 'price_gallon'].index.strftime('%d-%m')\n",
    "\n",
    "# chg = pd.DataFrame({'1991': yr_91,'2000':yr_00 ,'2019':yr_19}, index=chg_idx)\n",
    "# chg\n",
    "\n",
    "\n",
    "\n",
    "# yearly = pd.DataFrame({'yearly_fuel_price': yearly_prices[['price_gallon']], 'gallons_each_year': cars_calculations['gallons_each_year'], 'fuel_tank_capacity':cars_calculations['fuel_tank_capacity']})\n",
    "\n",
    "# yearly"
   ]
  },
  {
   "cell_type": "markdown",
   "metadata": {},
   "source": [
    "## Predicting mpg based on the cars specifications"
   ]
  },
  {
   "cell_type": "code",
   "execution_count": 19,
   "metadata": {},
   "outputs": [
    {
     "data": {
      "text/html": [
       "<div>\n",
       "<style scoped>\n",
       "    .dataframe tbody tr th:only-of-type {\n",
       "        vertical-align: middle;\n",
       "    }\n",
       "\n",
       "    .dataframe tbody tr th {\n",
       "        vertical-align: top;\n",
       "    }\n",
       "\n",
       "    .dataframe thead th {\n",
       "        text-align: right;\n",
       "    }\n",
       "</style>\n",
       "<table border=\"1\" class=\"dataframe\">\n",
       "  <thead>\n",
       "    <tr style=\"text-align: right;\">\n",
       "      <th></th>\n",
       "      <th>hp</th>\n",
       "      <th>weight</th>\n",
       "      <th>acc_time</th>\n",
       "      <th>range_miles</th>\n",
       "      <th>mpg</th>\n",
       "    </tr>\n",
       "  </thead>\n",
       "  <tbody>\n",
       "    <tr>\n",
       "      <th>0</th>\n",
       "      <td>130</td>\n",
       "      <td>3504</td>\n",
       "      <td>12.0</td>\n",
       "      <td>307.0</td>\n",
       "      <td>18.0</td>\n",
       "    </tr>\n",
       "    <tr>\n",
       "      <th>1</th>\n",
       "      <td>165</td>\n",
       "      <td>3693</td>\n",
       "      <td>11.5</td>\n",
       "      <td>350.0</td>\n",
       "      <td>15.0</td>\n",
       "    </tr>\n",
       "    <tr>\n",
       "      <th>2</th>\n",
       "      <td>150</td>\n",
       "      <td>3436</td>\n",
       "      <td>11.0</td>\n",
       "      <td>318.0</td>\n",
       "      <td>18.0</td>\n",
       "    </tr>\n",
       "    <tr>\n",
       "      <th>3</th>\n",
       "      <td>150</td>\n",
       "      <td>3433</td>\n",
       "      <td>12.0</td>\n",
       "      <td>304.0</td>\n",
       "      <td>16.0</td>\n",
       "    </tr>\n",
       "    <tr>\n",
       "      <th>4</th>\n",
       "      <td>140</td>\n",
       "      <td>3449</td>\n",
       "      <td>10.5</td>\n",
       "      <td>302.0</td>\n",
       "      <td>17.0</td>\n",
       "    </tr>\n",
       "  </tbody>\n",
       "</table>\n",
       "</div>"
      ],
      "text/plain": [
       "    hp  weight  acc_time  range_miles   mpg\n",
       "0  130    3504      12.0        307.0  18.0\n",
       "1  165    3693      11.5        350.0  15.0\n",
       "2  150    3436      11.0        318.0  18.0\n",
       "3  150    3433      12.0        304.0  16.0\n",
       "4  140    3449      10.5        302.0  17.0"
      ]
     },
     "execution_count": 19,
     "metadata": {},
     "output_type": "execute_result"
    }
   ],
   "source": [
    "cars_numeric = cars.drop(['mark_model'], axis=1)\n",
    "cars_numeric.head()"
   ]
  },
  {
   "cell_type": "code",
   "execution_count": 20,
   "metadata": {},
   "outputs": [],
   "source": [
    "from sklearn.ensemble import RandomForestRegressor\n",
    "from sklearn.metrics import mean_squared_error as MSE\n",
    "from sklearn.model_selection import train_test_split, RandomizedSearchCV"
   ]
  },
  {
   "cell_type": "code",
   "execution_count": 21,
   "metadata": {},
   "outputs": [],
   "source": [
    "X = cars_numeric.drop(['mpg'], axis=1).values\n",
    "y = cars_numeric['mpg'].values"
   ]
  },
  {
   "cell_type": "markdown",
   "metadata": {},
   "source": [
    "## Feature correlations"
   ]
  },
  {
   "cell_type": "code",
   "execution_count": 22,
   "metadata": {},
   "outputs": [
    {
     "data": {
      "text/plain": [
       "mpg            1.000000\n",
       "acc_time       0.380265\n",
       "hp            -0.752847\n",
       "range_miles   -0.825338\n",
       "weight        -0.847439\n",
       "Name: mpg, dtype: float64"
      ]
     },
     "execution_count": 22,
     "metadata": {},
     "output_type": "execute_result"
    }
   ],
   "source": [
    "feature_corrs = cars_numeric.corr()\n",
    "\n",
    "feature_corrs['mpg'].sort_values(ascending=False)"
   ]
  },
  {
   "cell_type": "code",
   "execution_count": 23,
   "metadata": {
    "scrolled": true
   },
   "outputs": [
    {
     "data": {
      "image/png": "[encoded data removed]",
      "text/plain": [
       "<Figure size 864x576 with 25 Axes>"
      ]
     },
     "metadata": {
      "needs_background": "light"
     },
     "output_type": "display_data"
    }
   ],
   "source": [
    "from pandas.plotting import scatter_matrix\n",
    "\n",
    "corr_matrix = scatter_matrix(cars_numeric, figsize=(12,8))\n"
   ]
  },
  {
   "cell_type": "code",
   "execution_count": 24,
   "metadata": {},
   "outputs": [
    {
     "data": {
      "text/plain": [
       "{'bootstrap': True,\n",
       " 'ccp_alpha': 0.0,\n",
       " 'criterion': 'mse',\n",
       " 'max_depth': None,\n",
       " 'max_features': 'auto',\n",
       " 'max_leaf_nodes': None,\n",
       " 'max_samples': None,\n",
       " 'min_impurity_decrease': 0.0,\n",
       " 'min_impurity_split': None,\n",
       " 'min_samples_leaf': 1,\n",
       " 'min_samples_split': 2,\n",
       " 'min_weight_fraction_leaf': 0.0,\n",
       " 'n_estimators': 100,\n",
       " 'n_jobs': None,\n",
       " 'oob_score': False,\n",
       " 'random_state': None,\n",
       " 'verbose': 0,\n",
       " 'warm_start': False}"
      ]
     },
     "execution_count": 24,
     "metadata": {},
     "output_type": "execute_result"
    }
   ],
   "source": [
    "rf = RandomForestRegressor()\n",
    "\n",
    "rf.get_params()"
   ]
  },
  {
   "cell_type": "code",
   "execution_count": 25,
   "metadata": {},
   "outputs": [],
   "source": [
    "X_train, X_test, y_train, y_test = train_test_split(X, y, test_size=0.2, random_state=42)"
   ]
  },
  {
   "cell_type": "code",
   "execution_count": 26,
   "metadata": {},
   "outputs": [
    {
     "data": {
      "text/plain": [
       "RandomizedSearchCV(cv=3, error_score='raise',\n",
       "                   estimator=RandomForestRegressor(bootstrap=True,\n",
       "                                                   ccp_alpha=0.0,\n",
       "                                                   criterion='mse',\n",
       "                                                   max_depth=None,\n",
       "                                                   max_features='auto',\n",
       "                                                   max_leaf_nodes=None,\n",
       "                                                   max_samples=None,\n",
       "                                                   min_impurity_decrease=0.0,\n",
       "                                                   min_impurity_split=None,\n",
       "                                                   min_samples_leaf=1,\n",
       "                                                   min_samples_split=2,\n",
       "                                                   min_weight_fraction_leaf=0.0,\n",
       "                                                   n_estimators=100,\n",
       "                                                   n_jobs=None, oob_score=False,\n",
       "                                                   random_state=None, verbose=0,\n",
       "                                                   warm_start=False),\n",
       "                   iid='deprecated', n_iter=10, n_jobs=-1,\n",
       "                   param_distributions={'max_depth': [3, 4, 5, 6],\n",
       "                                        'min_samples_leaf': [0.01, 0.012,\n",
       "                                                             0.016],\n",
       "                                        'n_estimators': [200, 300, 400, 500,\n",
       "                                                         600],\n",
       "                                        'random_state': [42]},\n",
       "                   pre_dispatch='2*n_jobs', random_state=42, refit=True,\n",
       "                   return_train_score=False, scoring='neg_mean_squared_error',\n",
       "                   verbose=0)"
      ]
     },
     "execution_count": 26,
     "metadata": {},
     "output_type": "execute_result"
    }
   ],
   "source": [
    "param_grid = {\n",
    "             'max_depth': [3, 4, 5, 6],\n",
    "             'n_estimators': [200, 300, 400, 500, 600], \n",
    "             'min_samples_leaf': [0.01, 0.012, 0.016],\n",
    "             'random_state': [42]\n",
    "             }\n",
    "\n",
    "rand_cv = RandomizedSearchCV(rf, param_grid, cv=3, scoring='neg_mean_squared_error', error_score='raise', n_jobs=-1, random_state=42)\n",
    "\n",
    "rand_cv.fit(X_train, y_train)"
   ]
  },
  {
   "cell_type": "code",
   "execution_count": 27,
   "metadata": {},
   "outputs": [
    {
     "data": {
      "text/plain": [
       "{'random_state': 42,\n",
       " 'n_estimators': 500,\n",
       " 'min_samples_leaf': 0.01,\n",
       " 'max_depth': 6}"
      ]
     },
     "execution_count": 27,
     "metadata": {},
     "output_type": "execute_result"
    }
   ],
   "source": [
    "rand_cv.best_params_"
   ]
  },
  {
   "cell_type": "code",
   "execution_count": 28,
   "metadata": {},
   "outputs": [],
   "source": [
    "best_model = rand_cv.best_estimator_"
   ]
  },
  {
   "cell_type": "code",
   "execution_count": 29,
   "metadata": {},
   "outputs": [],
   "source": [
    "y_pred = best_model.predict(X_test)"
   ]
  },
  {
   "cell_type": "code",
   "execution_count": 30,
   "metadata": {},
   "outputs": [
    {
     "data": {
      "text/plain": [
       "3.9707680596092385"
      ]
     },
     "execution_count": 30,
     "metadata": {},
     "output_type": "execute_result"
    }
   ],
   "source": [
    "MSE(y_test, y_pred)**0.5"
   ]
  },
  {
   "cell_type": "code",
   "execution_count": 31,
   "metadata": {},
   "outputs": [
    {
     "data": {
      "text/plain": [
       "array([13.53668683, 14.30687725, 27.65226682, 17.08629975, 30.63992925,\n",
       "       21.48245532, 18.05812169, 15.20199128, 25.61167688, 15.69554473,\n",
       "       17.54094839, 29.5718677 , 14.34421762, 23.82560571, 15.24525493,\n",
       "       21.33356259, 15.66362958, 31.69049706, 18.22482883, 15.15162856,\n",
       "       20.03942819, 20.78286435, 18.39541775, 20.23574928, 14.34039271,\n",
       "       18.84465813, 14.05381411, 11.49946366, 29.3043218 , 14.48342563,\n",
       "       13.11002283, 14.8989068 , 35.3287296 , 30.78580871, 24.39838587,\n",
       "       12.44506531, 18.55014884])"
      ]
     },
     "execution_count": 31,
     "metadata": {},
     "output_type": "execute_result"
    }
   ],
   "source": [
    "y_pred"
   ]
  },
  {
   "cell_type": "code",
   "execution_count": 32,
   "metadata": {},
   "outputs": [
    {
     "data": {
      "text/plain": [
       "{'mean_fit_time': array([0.29521052, 0.29820331, 0.4554491 , 0.30950451, 0.74667048,\n",
       "        0.91355769, 0.77193554, 0.77426378, 0.58709693, 0.49667184]),\n",
       " 'std_fit_time': array([0.00293618, 0.00705325, 0.00248795, 0.00285967, 0.01298674,\n",
       "        0.01140037, 0.01020378, 0.02200638, 0.00554298, 0.05614115]),\n",
       " 'mean_score_time': array([0.01329859, 0.01562516, 0.02194118, 0.01495989, 0.03723375,\n",
       "        0.04454748, 0.03756634, 0.03324429, 0.02626308, 0.01696126]),\n",
       " 'std_score_time': array([4.69628375e-04, 2.35218824e-03, 3.37174788e-07, 8.14296062e-04,\n",
       "        9.39818607e-04, 1.69541972e-03, 4.69796871e-04, 6.00281989e-03,\n",
       "        3.08305507e-03, 8.06230826e-04]),\n",
       " 'param_random_state': masked_array(data=[42, 42, 42, 42, 42, 42, 42, 42, 42, 42],\n",
       "              mask=[False, False, False, False, False, False, False, False,\n",
       "                    False, False],\n",
       "        fill_value='?',\n",
       "             dtype=object),\n",
       " 'param_n_estimators': masked_array(data=[200, 200, 300, 200, 500, 600, 500, 500, 400, 400],\n",
       "              mask=[False, False, False, False, False, False, False, False,\n",
       "                    False, False],\n",
       "        fill_value='?',\n",
       "             dtype=object),\n",
       " 'param_min_samples_leaf': masked_array(data=[0.01, 0.012, 0.012, 0.01, 0.016, 0.012, 0.01, 0.01,\n",
       "                    0.016, 0.016],\n",
       "              mask=[False, False, False, False, False, False, False, False,\n",
       "                    False, False],\n",
       "        fill_value='?',\n",
       "             dtype=object),\n",
       " 'param_max_depth': masked_array(data=[3, 3, 5, 6, 3, 6, 5, 6, 3, 6],\n",
       "              mask=[False, False, False, False, False, False, False, False,\n",
       "                    False, False],\n",
       "        fill_value='?',\n",
       "             dtype=object),\n",
       " 'params': [{'random_state': 42,\n",
       "   'n_estimators': 200,\n",
       "   'min_samples_leaf': 0.01,\n",
       "   'max_depth': 3},\n",
       "  {'random_state': 42,\n",
       "   'n_estimators': 200,\n",
       "   'min_samples_leaf': 0.012,\n",
       "   'max_depth': 3},\n",
       "  {'random_state': 42,\n",
       "   'n_estimators': 300,\n",
       "   'min_samples_leaf': 0.012,\n",
       "   'max_depth': 5},\n",
       "  {'random_state': 42,\n",
       "   'n_estimators': 200,\n",
       "   'min_samples_leaf': 0.01,\n",
       "   'max_depth': 6},\n",
       "  {'random_state': 42,\n",
       "   'n_estimators': 500,\n",
       "   'min_samples_leaf': 0.016,\n",
       "   'max_depth': 3},\n",
       "  {'random_state': 42,\n",
       "   'n_estimators': 600,\n",
       "   'min_samples_leaf': 0.012,\n",
       "   'max_depth': 6},\n",
       "  {'random_state': 42,\n",
       "   'n_estimators': 500,\n",
       "   'min_samples_leaf': 0.01,\n",
       "   'max_depth': 5},\n",
       "  {'random_state': 42,\n",
       "   'n_estimators': 500,\n",
       "   'min_samples_leaf': 0.01,\n",
       "   'max_depth': 6},\n",
       "  {'random_state': 42,\n",
       "   'n_estimators': 400,\n",
       "   'min_samples_leaf': 0.016,\n",
       "   'max_depth': 3},\n",
       "  {'random_state': 42,\n",
       "   'n_estimators': 400,\n",
       "   'min_samples_leaf': 0.016,\n",
       "   'max_depth': 6}],\n",
       " 'split0_test_score': array([-7.89933539, -8.10775858, -7.56012675, -7.66141239, -8.00435451,\n",
       "        -7.652727  , -7.42904586, -7.52721096, -7.9366524 , -7.58448246]),\n",
       " 'split1_test_score': array([-4.40469373, -4.67067863, -4.40137854, -3.99368909, -4.63441665,\n",
       "        -4.21757159, -4.134971  , -3.9097376 , -4.65806618, -4.29021149]),\n",
       " 'split2_test_score': array([-13.13979772, -13.31132849, -12.51040089, -11.8510006 ,\n",
       "        -12.99587891, -12.4060835 , -11.70017149, -11.58337347,\n",
       "        -12.99398683, -12.39510035]),\n",
       " 'mean_test_score': array([-8.48127561, -8.69658857, -8.15730206, -7.83536736, -8.54488336,\n",
       "        -8.09212736, -7.75472945, -7.67344068, -8.52956847, -8.08993144]),\n",
       " 'std_test_score': array([3.58975406, 3.55201802, 3.33731675, 3.21009151, 3.43488392,\n",
       "        3.35735375, 3.09705419, 3.13445468, 3.42885358, 3.32805397]),\n",
       " 'rank_test_score': array([ 7, 10,  6,  3,  9,  5,  2,  1,  8,  4])}"
      ]
     },
     "execution_count": 32,
     "metadata": {},
     "output_type": "execute_result"
    }
   ],
   "source": [
    "rand_cv.cv_results_"
   ]
  },
  {
   "cell_type": "markdown",
   "metadata": {},
   "source": [
    "## Feature importance"
   ]
  },
  {
   "cell_type": "code",
   "execution_count": 33,
   "metadata": {},
   "outputs": [
    {
     "data": {
      "text/plain": [
       "[(0.6107436839813338, 'range_miles'),\n",
       " (0.22158009502393047, 'weight'),\n",
       " (0.1301704604196166, 'hp'),\n",
       " (0.0375057605751191, 'acc_time')]"
      ]
     },
     "execution_count": 33,
     "metadata": {},
     "output_type": "execute_result"
    }
   ],
   "source": [
    "feature_names = ['hp', 'weight', 'acc_time', 'range_miles']\n",
    "feature_importances = best_model.feature_importances_\n",
    "\n",
    "importance = sorted(zip(feature_importances, feature_names), reverse=True)\n",
    "importance"
   ]
  },
  {
   "cell_type": "code",
   "execution_count": 34,
   "metadata": {},
   "outputs": [
    {
     "data": {
      "text/plain": [
       "<BarContainer object of 4 artists>"
      ]
     },
     "execution_count": 34,
     "metadata": {},
     "output_type": "execute_result"
    },
    {
     "data": {
      "image/png": "[encoded data removed]",
      "text/plain": [
       "<Figure size 432x288 with 1 Axes>"
      ]
     },
     "metadata": {
      "needs_background": "light"
     },
     "output_type": "display_data"
    }
   ],
   "source": [
    "plt.bar(feature_names, feature_importances)"
   ]
  },
  {
   "cell_type": "code",
   "execution_count": 35,
   "metadata": {},
   "outputs": [
    {
     "name": "stderr",
     "output_type": "stream",
     "text": [
      "C:\\Users\\JTKubi\\Anaconda3\\lib\\site-packages\\sklearn\\utils\\deprecation.py:144: FutureWarning: The sklearn.metrics.scorer module is  deprecated in version 0.22 and will be removed in version 0.24. The corresponding classes / functions should instead be imported from sklearn.metrics. Anything that cannot be imported from sklearn.metrics is now part of the private API.\n",
      "  warnings.warn(message, FutureWarning)\n",
      "C:\\Users\\JTKubi\\Anaconda3\\lib\\site-packages\\sklearn\\utils\\deprecation.py:144: FutureWarning: The sklearn.feature_selection.base module is  deprecated in version 0.22 and will be removed in version 0.24. The corresponding classes / functions should instead be imported from sklearn.feature_selection. Anything that cannot be imported from sklearn.feature_selection is now part of the private API.\n",
      "  warnings.warn(message, FutureWarning)\n"
     ]
    },
    {
     "data": {
      "text/html": [
       "\n",
       "    <style>\n",
       "    table.eli5-weights tr:hover {\n",
       "        filter: brightness(85%);\n",
       "    }\n",
       "</style>\n",
       "\n",
       "\n",
       "\n",
       "    \n",
       "\n",
       "    \n",
       "\n",
       "    \n",
       "\n",
       "    \n",
       "\n",
       "    \n",
       "\n",
       "    \n",
       "\n",
       "\n",
       "    \n",
       "\n",
       "    \n",
       "\n",
       "    \n",
       "\n",
       "    \n",
       "\n",
       "    \n",
       "\n",
       "    \n",
       "\n",
       "\n",
       "    \n",
       "\n",
       "    \n",
       "\n",
       "    \n",
       "\n",
       "    \n",
       "\n",
       "    \n",
       "        <table class=\"eli5-weights eli5-feature-importances\" style=\"border-collapse: collapse; border: none; margin-top: 0em; table-layout: auto;\">\n",
       "    <thead>\n",
       "    <tr style=\"border: none;\">\n",
       "        <th style=\"padding: 0 1em 0 0.5em; text-align: right; border: none;\">Weight</th>\n",
       "        <th style=\"padding: 0 0.5em 0 0.5em; text-align: left; border: none;\">Feature</th>\n",
       "    </tr>\n",
       "    </thead>\n",
       "    <tbody>\n",
       "    \n",
       "        <tr style=\"background-color: hsl(120, 100.00%, 80.00%); border: none;\">\n",
       "            <td style=\"padding: 0 1em 0 0.5em; text-align: right; border: none;\">\n",
       "                0.7028\n",
       "                \n",
       "                    &plusmn; 0.1210\n",
       "                \n",
       "            </td>\n",
       "            <td style=\"padding: 0 0.5em 0 0.5em; text-align: left; border: none;\">\n",
       "                range_miles\n",
       "            </td>\n",
       "        </tr>\n",
       "    \n",
       "        <tr style=\"background-color: hsl(120, 100.00%, 90.41%); border: none;\">\n",
       "            <td style=\"padding: 0 1em 0 0.5em; text-align: right; border: none;\">\n",
       "                0.2460\n",
       "                \n",
       "                    &plusmn; 0.0343\n",
       "                \n",
       "            </td>\n",
       "            <td style=\"padding: 0 0.5em 0 0.5em; text-align: left; border: none;\">\n",
       "                hp\n",
       "            </td>\n",
       "        </tr>\n",
       "    \n",
       "        <tr style=\"background-color: hsl(120, 100.00%, 93.89%); border: none;\">\n",
       "            <td style=\"padding: 0 1em 0 0.5em; text-align: right; border: none;\">\n",
       "                0.1291\n",
       "                \n",
       "                    &plusmn; 0.0152\n",
       "                \n",
       "            </td>\n",
       "            <td style=\"padding: 0 0.5em 0 0.5em; text-align: left; border: none;\">\n",
       "                weight\n",
       "            </td>\n",
       "        </tr>\n",
       "    \n",
       "        <tr style=\"background-color: hsl(120, 100.00%, 97.09%); border: none;\">\n",
       "            <td style=\"padding: 0 1em 0 0.5em; text-align: right; border: none;\">\n",
       "                0.0448\n",
       "                \n",
       "                    &plusmn; 0.0130\n",
       "                \n",
       "            </td>\n",
       "            <td style=\"padding: 0 0.5em 0 0.5em; text-align: left; border: none;\">\n",
       "                acc_time\n",
       "            </td>\n",
       "        </tr>\n",
       "    \n",
       "    \n",
       "    </tbody>\n",
       "</table>\n",
       "    \n",
       "\n",
       "    \n",
       "\n",
       "\n",
       "    \n",
       "\n",
       "    \n",
       "\n",
       "    \n",
       "\n",
       "    \n",
       "\n",
       "    \n",
       "\n",
       "    \n",
       "\n",
       "\n",
       "\n"
      ],
      "text/plain": [
       "<IPython.core.display.HTML object>"
      ]
     },
     "execution_count": 35,
     "metadata": {},
     "output_type": "execute_result"
    }
   ],
   "source": [
    "import eli5\n",
    "from eli5.sklearn import PermutationImportance\n",
    "\n",
    "imp = PermutationImportance(best_model, random_state=42).fit(X, y)\n",
    "eli5.show_weights(imp, feature_names=feature_names)"
   ]
  },
  {
   "cell_type": "code",
   "execution_count": null,
   "metadata": {},
   "outputs": [],
   "source": []
  }
 ],
 "metadata": {
  "kernelspec": {
   "display_name": "Python 3",
   "language": "python",
   "name": "python3"
  },
  "language_info": {
   "codemirror_mode": {
    "name": "ipython",
    "version": 3
   },
   "file_extension": ".py",
   "mimetype": "text/x-python",
   "name": "python",
   "nbconvert_exporter": "python",
   "pygments_lexer": "ipython3",
   "version": "3.7.3"
  }
 },
 "nbformat": 4,
 "nbformat_minor": 2
}
